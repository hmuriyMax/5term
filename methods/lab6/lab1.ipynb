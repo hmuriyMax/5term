{
 "cells": [
  {
   "cell_type": "markdown",
   "id": "2a41a17b-8407-449c-83c5-28fe182caa9b",
   "metadata": {},
   "source": [
    "\n"
   ]
  },
  {
   "cell_type": "markdown",
   "id": "432a2f0a-e0a3-4ccb-9dca-2e608f4f2431",
   "metadata": {},
   "source": [
    "# **Лабораторная работа №6**\n",
    "## **Задача 6.1**\n",
    "_Дана  формула численного дифференцирования:_\n",
    "$$ f'(x) \\approx af(x) + bf(x − 12h) + cf(x + h) + df(x − 10h) $$\n",
    "_Требуется  исследовать поведение погрешностей при численном дифференцировании._\n",
    "\n",
    "\n",
    "   "
   ]
  },
  {
   "cell_type": "markdown",
   "id": "ede07ffc-9a38-4e0a-a9ae-501ec4f31221",
   "metadata": {},
   "source": [
    "#### **1. Определение коэффициентов $a, b, c, d$, для максимального порядка точности:**\n",
    "$$ r = f'(x) - f'_{расч}(x) $$\n",
    "Воспользуемся разложением в ряд Тейлора\n",
    "$$ f(x+h) = f(x) + f'(x)h + \\frac{f''(x)}{2!}h^2 + \\frac{f^{(3)}(x)}{3!}h^3 + ... $$"
   ]
  },
  {
   "cell_type": "markdown",
   "id": "b3ce801e-aa4a-4c55-aa96-569de4c42ef7",
   "metadata": {},
   "source": [
    "Получаем\n",
    "$$ r = f'(x) - af(x) - \\newline - b \\bigg(f(x) - 12hf'(x) + 144h^2\\frac{f''(x)}{2} + 1728h^3\\frac{f^{(3)}(x)}{6}\\bigg) -\\newline- c\\bigg(f(x) + f'(x)h + \\frac{f''(x)}{2}h^2 + \\frac{f^{(3)}(x)}{6}h^3\\bigg) -\\newline- d \\bigg(f(x) - 10hf'(x) + 100h^2\\frac{f''(x)}{2} + 1000h^3\\frac{f^{(3)}(x)}{6}\\bigg), $$"
   ]
  },
  {
   "cell_type": "markdown",
   "id": "c37a9911-8fe2-4aa9-9e04-692792fc4c41",
   "metadata": {},
   "source": [
    "$$ r = f'(x) - f(x)\\Big(a + b + c + d\\Big) + f'(x)h\\Big(12b - c +10d\\Big) - f''(x)h^2\\Big(72b + \\frac{c}{2} + 50d\\Big) - f^{(3)}h^3\\Big(288b + \\frac{c}{6} + \\frac{500}{3}d\\Big). $$"
   ]
  },
  {
   "cell_type": "markdown",
   "id": "6bc16a4c-974b-45f0-a47b-dae28063d862",
   "metadata": {},
   "source": [
    "Чтобы мминимизировать погрешность, можно считать каждое слагаемое за 0. Получаем систему уравнений\n",
    "$$\n",
    "    \\begin{cases}\n",
    "        a &+& b &+ &c &+ &d &  = 0,\\\\\n",
    "           &&-12b &+ &c &- &10d &  = 1,\\\\\n",
    "        &&72b &+ &^c/_2 &+ &50d &  = 0,\\\\\n",
    "        &&288b &+ &^c/_6 &+ &^{500}/_3d &  = 0.\n",
    "    \\end{cases}\n",
    "$$\n",
    "\n",
    "Её решение:\n",
    "$$\n",
    "\\begin{cases}\n",
    "    -\\frac{781}{940}\\\\\n",
    "    \\frac{5}{188}\\\\\n",
    "    \\frac{40}{47}\\\\\n",
    "    -\\frac{11}{235}\n",
    "\\end{cases}\n",
    "$$"
   ]
  },
  {
   "cell_type": "markdown",
   "id": "a737de42-e54a-47af-9551-d7b8c6fe2e90",
   "metadata": {},
   "source": [
    "Таким образом, наша формула превращается в \n",
    "$\\quad f'(x) \\approx -\\frac{781}{940}f(x) + \\frac{5}{188}f(x − 12h) + \\frac{40}{47}f(x + h) + -\\frac{11}{235}f(x − 10h)$."
   ]
  },
  {
   "cell_type": "markdown",
   "id": "fe8461d6-66f9-4725-a1e0-876ec554a8ee",
   "metadata": {},
   "source": [
    "#### **2. Python-функции полученной формулы и формулы правой разностной производной:**"
   ]
  },
  {
   "cell_type": "code",
   "execution_count": null,
   "id": "e8bbb5f5-3fb1-4a89-91c1-15d133c219ce",
   "metadata": {},
   "outputs": [],
   "source": []
  }
 ],
 "metadata": {
  "kernelspec": {
   "display_name": "Python 3 (ipykernel)",
   "language": "python",
   "name": "python3"
  },
  "language_info": {
   "codemirror_mode": {
    "name": "ipython",
    "version": 3
   },
   "file_extension": ".py",
   "mimetype": "text/x-python",
   "name": "python",
   "nbconvert_exporter": "python",
   "pygments_lexer": "ipython3",
   "version": "3.9.5"
  }
 },
 "nbformat": 4,
 "nbformat_minor": 5
}
