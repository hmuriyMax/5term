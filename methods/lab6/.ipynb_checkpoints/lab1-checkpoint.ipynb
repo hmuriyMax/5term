{
 "cells": [
  {
   "cell_type": "markdown",
   "id": "2a41a17b-8407-449c-83c5-28fe182caa9b",
   "metadata": {},
   "source": [
    "gf\n"
   ]
  },
  {
   "cell_type": "raw",
   "id": "27d4df84-0968-4abf-893d-c37d3d7adc1f",
   "metadata": {},
   "source": [
    "iugfds\n"
   ]
  },
  {
   "cell_type": "code",
   "execution_count": null,
   "id": "19f05f1f-5a74-45ed-b862-540c454ba8cf",
   "metadata": {},
   "outputs": [],
   "source": []
  }
 ],
 "metadata": {
  "kernelspec": {
   "display_name": "Python 3 (ipykernel)",
   "language": "python",
   "name": "python3"
  },
  "language_info": {
   "codemirror_mode": {
    "name": "ipython",
    "version": 3
   },
   "file_extension": ".py",
   "mimetype": "text/x-python",
   "name": "python",
   "nbconvert_exporter": "python",
   "pygments_lexer": "ipython3",
   "version": "3.9.5"
  }
 },
 "nbformat": 4,
 "nbformat_minor": 5
}
