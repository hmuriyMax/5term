{
 "cells": [
  {
   "cell_type": "markdown",
   "id": "e0e9c595-8b0d-4805-9afa-78ebb8fffc17",
   "metadata": {},
   "source": [
    "# **Лабораторная работа №6**"
   ]
  },
  {
   "cell_type": "markdown",
   "id": "2a41a17b-8407-449c-83c5-28fe182caa9b",
   "metadata": {},
   "source": [
    "\n"
   ]
  },
  {
   "cell_type": "markdown",
   "id": "432a2f0a-e0a3-4ccb-9dca-2e608f4f2431",
   "metadata": {
    "tags": []
   },
   "source": [
    "## **Задача 6.1.28**\n",
    "_Дана  формула численного дифференцирования:_\n",
    "$$ f'(x) \\approx \\frac{af(x) + bf(x − 12h) + cf(x + h) + df(x − 10h)}{h} $$\n",
    "_Требуется  исследовать поведение погрешностей при численном дифференцировании._\n",
    "\n",
    "\n",
    "   "
   ]
  },
  {
   "cell_type": "markdown",
   "id": "ede07ffc-9a38-4e0a-a9ae-501ec4f31221",
   "metadata": {
    "tags": []
   },
   "source": [
    "#### **1. Определение коэффициентов $a, b, c, d$, для максимального порядка точности:**\n",
    "$$ r = f'(x) - f'_{расч}(x) $$\n",
    "Воспользуемся разложением в ряд Тейлора\n",
    "$$ f(x+h) = f(x) + f'(x)h + \\frac{f''(x)}{2!}h^2 + \\frac{f^{(3)}(x)}{3!}h^3 + ... $$"
   ]
  },
  {
   "cell_type": "markdown",
   "id": "b3ce801e-aa4a-4c55-aa96-569de4c42ef7",
   "metadata": {},
   "source": [
    "Получаем\n",
    "$$ r = f'(x) - af(x) - $$\n",
    "$$ - b \\bigg(f(x) - 12hf'(x) + 144h^2\\frac{f''(x)}{2} + 1728h^3\\frac{f^{(3)}(x)}{6} + 20736h^4\\frac{f^{(4)}(x)}{24} + o(h^4)\\bigg) - $$\n",
    "$$- c\\bigg(f(x) + f'(x)h + \\frac{f''(x)}{2}h^2 + \\frac{f^{(3)}(x)}{6}h^3 + \\frac{f^{(4)}(x)}{24}h^4 + o(h^4)\\bigg) -$$\n",
    "$$- d \\bigg(f(x) - 10hf'(x) + 100h^2\\frac{f''(x)}{2} + 1000h^3\\frac{f^{(3)}(x)}{6} + 10000h^4\\frac{f^{(4)}(x)}{24} + o(h^4)\\bigg), $$"
   ]
  },
  {
   "cell_type": "markdown",
   "id": "c37a9911-8fe2-4aa9-9e04-692792fc4c41",
   "metadata": {},
   "source": [
    "$$ r = f'(x) - f(x)\\Big(a + b + c + d\\Big) + f'(x)h\\Big(12b - c +10d\\Big) -$$\n",
    "$$- f''(x)h^2\\Big(72b + \\frac{c}{2} + 50d\\Big) - f^{(3)}h^3\\Big(288b + \\frac{c}{6} + \\frac{500}{3}d\\Big) - - f^{(4)}h^4\\Big(864b + \\frac{c}{24} + \\frac{1250}{3}d\\Big). $$"
   ]
  },
  {
   "cell_type": "markdown",
   "id": "6bc16a4c-974b-45f0-a47b-dae28063d862",
   "metadata": {},
   "source": [
    "Чтобы мминимизировать погрешность, можно считать каждое слагаемое за 0. Получаем систему уравнений\n",
    "$$\n",
    "    \\begin{cases}\n",
    "        a &+& b &+ &c &+ &d &  = 0,\\\\\n",
    "           &&-12b &+ &c &- &10d &  = 1,\\\\\n",
    "        &&72b &+ &^c/_2 &+ &50d &  = 0,\\\\\n",
    "        &&288b &+ &^c/_6 &+ &^{500}/_3d &  = 0.\n",
    "    \\end{cases}\n",
    "$$\n",
    "\n",
    "Её решение:\n",
    "$$\n",
    "\\begin{cases}\n",
    "    -\\frac{781}{940}\\\\\n",
    "    \\frac{5}{188}\\\\\n",
    "    \\frac{40}{47}\\\\\n",
    "    -\\frac{11}{235}\n",
    "\\end{cases}\n",
    "$$"
   ]
  },
  {
   "cell_type": "markdown",
   "id": "a737de42-e54a-47af-9551-d7b8c6fe2e90",
   "metadata": {},
   "source": [
    "Таким образом, наша формула превращается в \n",
    "$\\quad f'(x) \\approx \\frac{-\\frac{781}{940}f(x) + \\frac{5}{188}f(x − 12h) + \\frac{40}{47}f(x + h) + -\\frac{11}{235}f(x − 10h)}{h}$."
   ]
  },
  {
   "cell_type": "markdown",
   "id": "fe8461d6-66f9-4725-a1e0-876ec554a8ee",
   "metadata": {
    "tags": []
   },
   "source": [
    "#### **2. Python-функции полученной формулы и формулы правой разностной производной:**"
   ]
  },
  {
   "cell_type": "code",
   "execution_count": 1,
   "id": "e8bbb5f5-3fb1-4a89-91c1-15d133c219ce",
   "metadata": {},
   "outputs": [],
   "source": [
    "def right_der(x, h, f):\n",
    "    return (f(x + h) - f(x))/h\n",
    "\n",
    "def given_der(x, h, f):\n",
    "    return (-781/940*f(x) + 5/188*f(x-12*h) + 40/47*f(x+h) - 11/235*f(x-10*h))/h"
   ]
  },
  {
   "cell_type": "markdown",
   "id": "84d3d542-0db9-431a-8c88-0fd3343c067f",
   "metadata": {
    "tags": []
   },
   "source": [
    "#### **3. В качестве тестовой функции для проверки корректности работы программы взять функцию из задачи 5.1.**\n",
    "Функция из 5.1:$ \\quad P(x) = 3.9 - 0.4x + 2.7x^2 + 0.7x^3 \\quad x \\in [1, 3] $"
   ]
  },
  {
   "cell_type": "markdown",
   "id": "27ec540c-8eb8-4752-b64c-874a85791d6f",
   "metadata": {},
   "source": [
    "##### **На отрезке [a,b] построить графики точной производной и полученные по формулам  численного дифференцирования, выбрав шаг  h0=0.0001**"
   ]
  },
  {
   "cell_type": "code",
   "execution_count": 2,
   "id": "ac39cf56-8769-4f8e-9e11-c7d203f551b7",
   "metadata": {},
   "outputs": [
    {
     "data": {
      "text/plain": [
       "<matplotlib.legend.Legend at 0x7ff9501b6b80>"
      ]
     },
     "execution_count": 2,
     "metadata": {},
     "output_type": "execute_result"
    },
    {
     "data": {
      "image/png": "[encoded data removed]",
      "text/plain": [
       "<Figure size 432x288 with 1 Axes>"
      ]
     },
     "metadata": {
      "needs_background": "light"
     },
     "output_type": "display_data"
    }
   ],
   "source": [
    "import numpy as np\n",
    "import matplotlib.pyplot as plt\n",
    "\n",
    "def f(x):\n",
    "    return 3.9 - 0.4*x + 2.7*x**2+0.7*x**3\n",
    "    \n",
    "def df(x):\n",
    "    return -0.4 + 5.4*x + 2.1*x**2\n",
    "\n",
    "a = 1\n",
    "b = 3\n",
    "n = 50\n",
    "h = (b-a)/n\n",
    "x = np.linspace(a, b, n)\n",
    "f1 = [df(el) for el in x]\n",
    "f2 = [right_der(el, h, f) for el in x]\n",
    "f3 = [given_der(el, h, f) for el in x]\n",
    "\n",
    "plt.title(\"Сравнение графиков производных, полученных 3 способами\") # заголовок\n",
    "plt.xlabel(\"x\") \n",
    "plt.ylabel(\"y\") \n",
    "plt.grid()\n",
    "plt.plot(x, f1, label=\"Точная производная\")  \n",
    "plt.plot(x, f2, label=\"Правая разн. производная\") \n",
    "plt.plot(x, f3, label=\"Формула 28 варианта\") \n",
    "plt.legend()"
   ]
  },
  {
   "cell_type": "markdown",
   "id": "6f06544f-0366-4b0b-b537-33708d570e29",
   "metadata": {
    "tags": []
   },
   "source": [
    "#### **4. Взять функцию из задачи 5.2. Выбрать фиксированную точку на отрезке [a,b] и вычислить значения производных  по формулам  численного дифференцирования,  уменьшая шаг дифференцирования  h0=0.1 последовательно в 10 раз: , k=0,1,2,…**"
   ]
  },
  {
   "cell_type": "code",
   "execution_count": 3,
   "id": "3078511f-17c6-47b2-bcab-c84c8d54b765",
   "metadata": {},
   "outputs": [],
   "source": [
    "def f_2(x):\n",
    "    return 7*2**x*np.cos(2*np.pi*x)\n",
    "\n",
    "def df_2(x):\n",
    "    return 7*np.log(2)*2**x*np.cos(2*np.pi*x) + 7*2**x*np.pi*2*np.sin(2*np.pi*x)"
   ]
  },
  {
   "cell_type": "code",
   "execution_count": 4,
   "id": "25195b8f-9fd2-4d63-b48e-0c77492b2905",
   "metadata": {},
   "outputs": [
    {
     "name": "stdout",
     "output_type": "stream",
     "text": [
      "       56.624896368334503904407029040158       50.973938114508989372097857994959\n",
      "        5.496171827444719326649646973237        0.047711139250935730160563252866\n",
      "        0.546351364081466783773066708818        0.000509847965105336697888560593\n",
      "        0.054600964193223688880607369356        0.000006352608366455569921527058\n",
      "        0.005459752986304522437421837822        0.000000064973505686793942004442\n",
      "        0.000545970893977454352352651767        0.000000003622584898721470381133\n",
      "        0.000054612828634503784996923059        0.000000005398945290835399646312\n",
      "        0.000005763015547444183539482765        0.000000300718266288413360598497\n",
      "        0.000005605668221164705755654722        0.000006493846640864830987993628\n",
      "        0.000001499759136436296103056520        0.000021483773579689113830681890\n",
      "        0.000353771608743613796832505614        0.000065113622341073096322361380\n",
      "        0.003906485287544114726188126951        0.004794663707244239958527032286\n",
      "        0.010304369427661441704913158901        0.012524815476911754785760422237\n",
      "        0.487075545604408688404873828404        0.398257703634396165170983294956\n",
      "        1.644552661675891869208498974331        2.754775686301048409632130642422\n"
     ]
    }
   ],
   "source": [
    "delta1 = []\n",
    "delta2 = []\n",
    "x = 2\n",
    "n = 15\n",
    "for i in range(n):\n",
    "    delta1.append(np.abs(df_2(x) - right_der(x, 0.1*0.1**i, f_2)))\n",
    "    delta2.append(np.abs(df_2(x) - given_der(x, 0.1*0.1**i, f_2)))\n",
    "\n",
    "for i in range(n):   \n",
    "    print(\"{:40.30f}{:40.30f}\".format(delta1[i], delta2[i]))"
   ]
  },
  {
   "cell_type": "code",
   "execution_count": 5,
   "id": "6fb676aa-9d0c-4d5d-942e-f2a268b67fb3",
   "metadata": {},
   "outputs": [
    {
     "data": {
      "text/plain": [
       "<matplotlib.legend.Legend at 0x7ff90fac1fa0>"
      ]
     },
     "execution_count": 5,
     "metadata": {},
     "output_type": "execute_result"
    },
    {
     "data": {
      "image/png": "[encoded data removed]",
      "text/plain": [
       "<Figure size 432x288 with 1 Axes>"
      ]
     },
     "metadata": {
      "needs_background": "light"
     },
     "output_type": "display_data"
    }
   ],
   "source": [
    "x = [0.1**el for el in range(n)]\n",
    "d1 = delta1\n",
    "d2 = delta2\n",
    "\n",
    "plt.title(\"Сравнение графиков погрешности\") # заголовок\n",
    "plt.xlabel(\"h\") \n",
    "plt.ylabel(\"delta\") \n",
    "plt.grid()\n",
    "plt.yscale('log')\n",
    "plt.xscale('log')\n",
    "plt.plot(x, d1, label=\"Погрешность правого метода\")  \n",
    "plt.plot(x, d2, label=\"Погрешность данной формулы\") \n",
    "plt.legend()"
   ]
  },
  {
   "cell_type": "markdown",
   "id": "f1005d1e-dfcb-4cf5-b1b2-342e949a5470",
   "metadata": {},
   "source": [
    "**Вывод:** из представленного графика можно понять, что минимум погрешности для данной в задании формулы достигается при $h = 10^{-5}$ и этот минимум значительно меньше минимума правой разностной производной, который достигается при $h = 10^{-9}$ и больше первой более чем в 100 раз. При уменьшении $h$ погрешность увеличивается из-за роста неустранимой погрешности."
   ]
  },
  {
   "cell_type": "markdown",
   "id": "52757bad-3307-4bd1-9f51-175b7f5df58f",
   "metadata": {
    "tags": []
   },
   "source": [
    "## **Задача 6.2.28**\n",
    "_Найти  приближенное решение  задачи Коши для обыкновенного дифференциального  уравнения (ОДУ) 1 порядка с точностью $ \\varepsilon = 10^{-6}$_\n",
    "$$ y' = \\frac{2 + \\sqrt{t}}{4t}y(t) \\qquad t\\in[0, 2]$$\n",
    "$$y(0) = 4$$"
   ]
  },
  {
   "cell_type": "markdown",
   "id": "d3a9da41-89cb-4c33-9b59-928a716669d2",
   "metadata": {
    "tags": []
   },
   "source": [
    "#### **1. Аналитическое решение**\n",
    "\n",
    "$$\n",
    "\\frac{dy}{dt} = \\frac{2 + \\sqrt{t}}{4t}y $$\n",
    "$$\\frac{dy}{y} = \\frac{1}{2t}dt + \\frac{\\sqrt{t}}{4t}dt $$\n",
    "$$\\int{\\frac{dy}{y}} = \\int{\\frac{dt}{2t}} + \\int{\\frac{\\sqrt{t}}{4t}dt} $$\n",
    "$$ln(y) = \\frac{1}{2}ln(t) + \\frac{\\sqrt{t}}{2} + c $$\n",
    "$$y = \\sqrt{t} e^{\\frac{\\sqrt{t}}{2}} c_1\n",
    "$$"
   ]
  },
  {
   "cell_type": "markdown",
   "id": "6e3fc3f2-cc41-40fb-b2ce-02fefcbf154e",
   "metadata": {},
   "source": [
    "Подставим частное решение:\n",
    "$$\n",
    "4 = \\sqrt{0} e^{\\frac{\\sqrt{0}}{2}} c_1 $$\n",
    "$$4 = 0\n",
    "$$\n",
    "\n",
    "Решения нет.\n",
    "Заменим $t_0$ на 1 (**_в заданиях опечатка_**). Получим:\n",
    "$$\n",
    "4 = \\sqrt{1} e^{\\frac{\\sqrt{1}}{2}} c_1 $$\n",
    "$$4 = \\sqrt{e}c_1 $$\n",
    "$$c_1 = \\frac{4}{\\sqrt{e}} $$\n",
    "т.о.\n",
    "$$\n",
    "y = 4\\sqrt{t} e^{\\frac{\\sqrt{t} - 1}{2}}\n",
    "$$"
   ]
  },
  {
   "cell_type": "markdown",
   "id": "e0e60da0-c5d2-4d26-8570-761c0660342a",
   "metadata": {
    "tags": []
   },
   "source": [
    "#### **2. Составить  программу вычисления  решения  методом Эйлера с  заданной точностью, используя правило Рунге. Найти решение задачи с точностью $ \\varepsilon = 10^{-6} $, число точек N и шаг, при котором точность достигается.    Построить график решения.**"
   ]
  },
  {
   "cell_type": "code",
   "execution_count": 6,
   "id": "d5e9ae0d-bc37-447c-8b0c-446ea9eb0d32",
   "metadata": {},
   "outputs": [],
   "source": [
    "def rgt(t, y):\n",
    "    return (2 + np.sqrt(t))/(4*t)*y\n",
    "\n",
    "\n",
    "def Eiler(a, b, h, n, fun, t0, y0):\n",
    "    y = y0\n",
    "    t = t0\n",
    "    for i in range(n):\n",
    "        y = y + h*fun(t, y)\n",
    "        t += h\n",
    "    return y\n",
    "\n",
    "def getRungeEps(a, b, h, n, rgt_fun, t0, y0, counter_fun, p):\n",
    "    return((counter_fun(a, b, h/2, 2*n, rgt_fun, t0, y0) -\n",
    "            counter_fun(a, b, h, n, rgt_fun, t0, y0))/(2**p - 1))"
   ]
  },
  {
   "cell_type": "markdown",
   "id": "662d54af-fcdf-42eb-a388-0809e7fe223d",
   "metadata": {},
   "source": [
    "Найдём решение с заданной точностью. Для этого организуем перебор возможных N, пока не достигнем точности."
   ]
  },
  {
   "cell_type": "code",
   "execution_count": 7,
   "id": "ce5afd1f-bda7-4bde-89e0-c80de547bf77",
   "metadata": {},
   "outputs": [],
   "source": [
    "def get_n(a, b, fun, met, p, t0, y0, eps):\n",
    "    n = 2\n",
    "    old_n = 2\n",
    "    h = abs(b - a)/n\n",
    "    while abs(getRungeEps(a, b, h, n, fun, t0, y0, met, p)) > eps:\n",
    "        old_n = n\n",
    "        n *= 2\n",
    "        h = abs(b-a)/n\n",
    "    while abs(old_n - n) > 1:\n",
    "        middle = (n + old_n)//2\n",
    "        if abs(getRungeEps(a, b, h, middle, fun, t0, y0, met, p)) > eps:\n",
    "            old_n = middle\n",
    "        else:\n",
    "            n = middle\n",
    "        h = abs(b-a)/n\n",
    "    return max(n, old_n)"
   ]
  },
  {
   "cell_type": "code",
   "execution_count": 8,
   "id": "4402dccb-ee63-46cb-b60d-fe53d895136e",
   "metadata": {},
   "outputs": [],
   "source": [
    "a = 1\n",
    "b = 3\n",
    "t0 = 1\n",
    "y0 = 4\n",
    "n = get_n(a, b, rgt, Eiler, 1, t0, y0, 1e-6)\n",
    "h = abs(b-a)/n"
   ]
  },
  {
   "cell_type": "code",
   "execution_count": 9,
   "id": "6ff1dadd-8725-485d-9e3a-28aa038791af",
   "metadata": {},
   "outputs": [
    {
     "name": "stdout",
     "output_type": "stream",
     "text": [
      "n =  33792\n",
      "h =  5.918560606060606e-05\n",
      "RungeEps = 0.000001132006782\n"
     ]
    }
   ],
   "source": [
    "print(\"n = \", n)\n",
    "print(\"h = \", h)\n",
    "print(\"RungeEps = {:.15f}\".format(getRungeEps(a, b, h, n, rgt, t0, y0, Eiler, 1)))"
   ]
  },
  {
   "cell_type": "markdown",
   "id": "83c6883f-0822-4f0f-9e21-a9876adddb37",
   "metadata": {},
   "source": [
    "#### **3. Составить программу вычисления решения с заданной точностью методом индивидуального варианта. Найти решение задачи с заданной точностью, число точек N и шаг, при котором точность достигается.   Построить график решения задачи.**"
   ]
  },
  {
   "cell_type": "markdown",
   "id": "d90719ac-39a1-4801-9c31-5ee277ac25ba",
   "metadata": {},
   "source": [
    "_Метод варианта 28 - усовершенствованный метод Эйлера_"
   ]
  },
  {
   "cell_type": "code",
   "execution_count": 10,
   "id": "0db82bef-1111-4656-9820-9f77d097929b",
   "metadata": {},
   "outputs": [],
   "source": [
    "def modEiler(a, b, h, n, fun, t0, y0):\n",
    "    y = y0\n",
    "    t = t0\n",
    "    for i in range(n):\n",
    "        y = y + h*fun(t + h/2, y + h/2 * fun(t, y))\n",
    "        t += h\n",
    "    return y"
   ]
  },
  {
   "cell_type": "code",
   "execution_count": 15,
   "id": "f8bf27ca-e931-46df-85cc-da88ce67ada9",
   "metadata": {},
   "outputs": [],
   "source": [
    "n = get_n(a, b, rgt, modEiler, 2, t0, y0, 1e-6)\n",
    "h2 = abs(b-a)/n"
   ]
  },
  {
   "cell_type": "code",
   "execution_count": 16,
   "id": "d434e02f-1307-4d17-a35e-1d13be28d82a",
   "metadata": {},
   "outputs": [
    {
     "name": "stdout",
     "output_type": "stream",
     "text": [
      "n =  160\n",
      "h =  5.918560606060606e-05\n",
      "RungeEps = 0.000001234770314\n"
     ]
    }
   ],
   "source": [
    "print(\"n = \", n)\n",
    "print(\"h = \", h)\n",
    "print(\"RungeEps = {:.15f}\".format(getRungeEps(a, b, h2, n, rgt, t0, y0, modEiler, 2)))"
   ]
  },
  {
   "cell_type": "markdown",
   "id": "ce91d845-edbd-439f-8a6d-1eb209295065",
   "metadata": {},
   "source": [
    "Сравним теперь два метода (полученные функции и погрешности)"
   ]
  },
  {
   "cell_type": "code",
   "execution_count": 17,
   "id": "ea60d0c2-6302-4c6a-8d3c-1a79d78d0dcd",
   "metadata": {},
   "outputs": [
    {
     "data": {
      "text/plain": [
       "<matplotlib.legend.Legend at 0x7ff90fb15730>"
      ]
     },
     "execution_count": 17,
     "metadata": {},
     "output_type": "execute_result"
    },
    {
     "data": {
      "image/png": "[encoded data removed]",
      "text/plain": [
       "<Figure size 432x288 with 1 Axes>"
      ]
     },
     "metadata": {
      "needs_background": "light"
     },
     "output_type": "display_data"
    }
   ],
   "source": [
    "plt.title(\"Интегралы\") # заголовок\n",
    "plt.xlabel(\"t\") \n",
    "plt.ylabel(\"y\") \n",
    "plt.grid()\n",
    "# plt.yscale('log')\n",
    "# plt.xscale('log')\n",
    "x = np.linspace(a, b, 100)\n",
    "y = [modEiler(a, b, 2/100, i, rgt, t0, y0) for i in range(100)]\n",
    "y1 = [Eiler(a, b, 2/100, i, rgt, t0, y0) for i in range(100)]\n",
    "y2 = [np.exp(np.sqrt(t)/2)*np.sqrt(t)*4/np.sqrt(np.exp(1)) for t in x]\n",
    "plt.plot(x, y, label=\"Модифиц. мет. Эйлера\") \n",
    "plt.plot(x, y1, label=\"Мет. Эйлера\") \n",
    "plt.plot(x, y2, label=\"Точный интеграл\")\n",
    "plt.legend()"
   ]
  },
  {
   "cell_type": "code",
   "execution_count": 18,
   "id": "aa58d2b2-ef30-4c03-8246-53368199eeba",
   "metadata": {},
   "outputs": [
    {
     "data": {
      "text/plain": [
       "<matplotlib.legend.Legend at 0x7ff90fb2b7c0>"
      ]
     },
     "execution_count": 18,
     "metadata": {},
     "output_type": "execute_result"
    },
    {
     "data": {
      "image/png": "[encoded data removed]",
      "text/plain": [
       "<Figure size 432x288 with 1 Axes>"
      ]
     },
     "metadata": {
      "needs_background": "light"
     },
     "output_type": "display_data"
    }
   ],
   "source": [
    "plt.title(\"График погрешностей\") # заголовок\n",
    "plt.xlabel(\"t\") \n",
    "plt.ylabel(\"y\") \n",
    "plt.grid()\n",
    "plt.yscale('log')\n",
    "# plt.xscale('log')\n",
    "x = np.linspace(a, b, 100)\n",
    "y = [abs(getRungeEps(a, b, h2, i, rgt, t0, y0, modEiler, 2)) for i in range(100)]\n",
    "y2 = [abs(getRungeEps(a, b, h2, i, rgt, t0, y0, Eiler, 1)) for i in range(100)]\n",
    "plt.plot(x, y, label=\"Модифиц. мет. Эйлера\") \n",
    "plt.plot(x, y2, label=\"Мет. Эйлера\") \n",
    "plt.legend()"
   ]
  },
  {
   "cell_type": "markdown",
   "id": "422d0ce1-2fa8-4609-aa06-1c6a4b5e55d3",
   "metadata": {},
   "source": [
    "**Вывод:** таким образом получаем, что модифицированный метод Эйлера дал значительно меньшую погрешность, чем обычный метод Эйлера, использовав меньшее количество отрезков разбиения. Также в задании найдена опечатка, так как при начальном условии $t_0 = 0$ наблюдается аналитическое отсутствие решений задачи Коши, а также деление на 0 (в исходной формуле присутствует t в знаменателе)"
   ]
  }
 ],
 "metadata": {
  "kernelspec": {
   "display_name": "Python 3 (ipykernel)",
   "language": "python",
   "name": "python3"
  },
  "language_info": {
   "codemirror_mode": {
    "name": "ipython",
    "version": 3
   },
   "file_extension": ".py",
   "mimetype": "text/x-python",
   "name": "python",
   "nbconvert_exporter": "python",
   "pygments_lexer": "ipython3",
   "version": "3.7.8"
  }
 },
 "nbformat": 4,
 "nbformat_minor": 5
}
