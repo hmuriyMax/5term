{
 "cells": [
  {
   "cell_type": "code",
   "execution_count": 1,
   "id": "db04a1d7-6a51-45bd-a272-f242a842bb07",
   "metadata": {},
   "outputs": [],
   "source": [
    "import main\n",
    "import math"
   ]
  },
  {
   "cell_type": "code",
   "execution_count": 2,
   "id": "3c5e695a-9a52-439b-b065-57213526949c",
   "metadata": {},
   "outputs": [],
   "source": [
    "num = 3"
   ]
  },
  {
   "cell_type": "code",
   "execution_count": 3,
   "id": "9a02fb23-4ad8-4086-bd4e-1d01393db454",
   "metadata": {},
   "outputs": [],
   "source": [
    "step = 0.5/num\n",
    "_x = main.np.arange(3, 3.5 + step, step)\n",
    "_y = [40*math.cos(tx) for tx in _x]\n",
    "_yt = [- 40 * math.sin(tx) for tx in _x]"
   ]
  },
  {
   "cell_type": "code",
   "execution_count": 4,
   "id": "598bf2d8-8308-4046-9846-f88136805459",
   "metadata": {},
   "outputs": [],
   "source": [
    "funcs = main.spline_3d2_met(_x, _y, _yt)\n",
    "func = main.lagrange_met(_x, _y)"
   ]
  },
  {
   "cell_type": "code",
   "execution_count": 5,
   "id": "ee111426-7414-460d-81c6-38f236f6ac6a",
   "metadata": {},
   "outputs": [
    {
     "data": {
      "text/plain": [
       "-39.76448528242206"
      ]
     },
     "execution_count": 5,
     "metadata": {},
     "output_type": "execute_result"
    }
   ],
   "source": [
    "main.spline_3d2_get(3.25, _x, _y, _yt)"
   ]
  },
  {
   "cell_type": "code",
   "execution_count": 6,
   "id": "70c46637-33f7-4d27-a122-ff21fa821c23",
   "metadata": {},
   "outputs": [
    {
     "data": {
      "text/plain": [
       "-39.76518704322185"
      ]
     },
     "execution_count": 6,
     "metadata": {},
     "output_type": "execute_result"
    }
   ],
   "source": [
    "40*math.cos(3.25)"
   ]
  },
  {
   "cell_type": "code",
   "execution_count": 7,
   "id": "b4a1fe39-e689-42ae-84cf-666e0da88ffd",
   "metadata": {},
   "outputs": [],
   "source": [
    "import matplotlib\n",
    "import matplotlib.pyplot as plt"
   ]
  },
  {
   "cell_type": "code",
   "execution_count": 9,
   "id": "fe7e4f1c-5105-4499-bc33-07323d910743",
   "metadata": {},
   "outputs": [
    {
     "data": {
      "text/plain": [
       "<matplotlib.legend.Legend at 0x1ba698cf408>"
      ]
     },
     "execution_count": 9,
     "metadata": {},
     "output_type": "execute_result"
    },
    {
     "data": {
      "image/png": "[encoded data removed]",
      "text/plain": [
       "<Figure size 432x288 with 1 Axes>"
      ]
     },
     "metadata": {
      "needs_background": "light"
     },
     "output_type": "display_data"
    }
   ],
   "source": [
    "x = main.np.linspace(min(_x), max(_x), 1000)\n",
    "plt.title('Сравнение погрешностей')\n",
    "plt.xlabel('x')\n",
    "plt.ylabel('y')\n",
    "# plt.yscale('log')\n",
    "plt.plot(x, main.fine(x, func), label='RL')\n",
    "# plt.plot(x, math.cos(x), label='RL')\n",
    "for i in range(len(_x)-1):\n",
    "    x = main.np.linspace(_x[i], _x[i+1], int(1000/(len(_x)-1)))\n",
    "    if i == 0:\n",
    "        plt.plot(x, main.fine(x, funcs[i]), 'r', label='RP')   \n",
    "    else:\n",
    "        plt.plot(x, main.fine(x, funcs[i]), 'r')   \n",
    "plt.grid()\n",
    "plt.legend()"
   ]
  },
  {
   "cell_type": "code",
   "execution_count": null,
   "id": "db6f8afe-4170-4962-ae4c-021815f452f8",
   "metadata": {},
   "outputs": [],
   "source": []
  }
 ],
 "metadata": {
  "kernelspec": {
   "display_name": "Python 3",
   "language": "python",
   "name": "python3"
  },
  "language_info": {
   "codemirror_mode": {
    "name": "ipython",
    "version": 3
   },
   "file_extension": ".py",
   "mimetype": "text/x-python",
   "name": "python",
   "nbconvert_exporter": "python",
   "pygments_lexer": "ipython3",
   "version": "3.7.8"
  }
 },
 "nbformat": 4,
 "nbformat_minor": 5
}
