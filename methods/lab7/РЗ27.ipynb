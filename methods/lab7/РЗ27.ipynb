{
 "cells": [
  {
   "cell_type": "markdown",
   "id": "d389cbaf-278d-42a7-8f0d-55e97fed7c1b",
   "metadata": {
    "tags": []
   },
   "source": [
    "# **Расчётное задание 27**\n",
    "### *Щемилкин Максим (А-05-19) Вар-28*"
   ]
  },
  {
   "cell_type": "markdown",
   "id": "481d4757-b74e-4ec4-a0c2-26d1fbc1aada",
   "metadata": {
    "tags": []
   },
   "source": [
    "#### **Задание**"
   ]
  },
  {
   "cell_type": "markdown",
   "id": "74f4a20d-4c9f-422c-b40b-c050b04450ed",
   "metadata": {
    "tags": []
   },
   "source": [
    "Методом конечных разностей найти решение краевой задачи \n",
    "$\n",
    "\\begin{cases}\n",
    "    -y'' + q(x)y = f(x) \\\\\n",
    "    y(0) = y_0, \\quad y(1) = y_1\n",
    "\\end{cases}\n",
    "$ с шагами $ h_1 = 1/3, h_2 = 1/6 $ и оценить погрешность по правилу Рунге. Построить на одном чертеже графики полученных приближенных решений. \n",
    "\n",
    "Вариант 28: $\n",
    "\\begin{cases}\n",
    "    q(x) = 6\\\\\n",
    "    f(x) = 6(1 - x + x^3) \\\\\n",
    "    y_0 = 1, \\quad y_1 = 2\n",
    "\\end{cases}\n",
    "$"
   ]
  },
  {
   "cell_type": "markdown",
   "id": "ffc90530-b5a6-4deb-a606-c7560b0e09a7",
   "metadata": {},
   "source": [
    "#### **Решение**\n",
    "Имеем систему: \n",
    "$\n",
    "\\begin{cases}\n",
    "    -y'' + 6y = 6(1 - x + x^3)\\\\\n",
    "    y(0) = 1, \\quad y(1) = 2\n",
    "\\end{cases}\n",
    "$ $\\quad\\quad(1)$"
   ]
  },
  {
   "cell_type": "markdown",
   "id": "96360ed1-5cb5-48b6-9d68-f89f3ec06ca2",
   "metadata": {
    "tags": []
   },
   "source": [
    "##### **1. h = 1/3**"
   ]
  },
  {
   "cell_type": "markdown",
   "id": "b87af520-0ed7-414f-ac52-3ea4c2b21ee2",
   "metadata": {},
   "source": [
    "Заменяем в системе (1) вторую производную на её аппроксимацию:\n",
    "$$\n",
    "-\\frac{y_{i-1} - 2y_i + y_{y + 1}}{h^2} + q_iy_i \\approx f_i \\\\\n",
    "-9(y_{i-1} - 2y_i + y_{y + 1}) + 6y_i = 6 - 6x_i + 6x^3_i \\\\\n",
    "-9y_{i-1} + 24y_i - 9y_{i+1} = 6 - 6x_i + 6x^3_i\n",
    "$$"
   ]
  },
  {
   "cell_type": "markdown",
   "id": "fcd7e486-2c28-4b77-a59a-af1ccd8c1d93",
   "metadata": {},
   "source": [
    "Подставим:\n",
    "$$\n",
    "\\begin{cases}\n",
    "    y_0 = 1 \\\\\n",
    "    -9y_0 + 24y_1 - 9y_2 = 6 - 6(\\frac{1}{3}) + 6(\\frac{1}{3})^3 \\\\\n",
    "    -9y_1 + 24y_2 - 9y_3 = 6 - 6(\\frac{2}{3}) + 6(\\frac{2}{3})^3 \\\\\n",
    "    y_3 = 2\n",
    "\\end{cases}\n",
    "$$"
   ]
  },
  {
   "cell_type": "markdown",
   "id": "8dbeb765-e41e-428b-938c-a90517a5eea7",
   "metadata": {},
   "source": [
    "Упрощаем:\n",
    "$$\n",
    "\\begin{cases}\n",
    "     24y_1 -  9y_2 = 15 - 2 + \\frac{2}{9} \\\\\n",
    "     -9y_1 + 24y_2 = 24 - 4 + \\frac{16}{9} \\\\\n",
    "\\end{cases}\\\\\n",
    "\\begin{cases}\n",
    "     216y_1 - 81y_2 = 119 \\\\\n",
    "     -81y_1 + 216y_2 = 196 \\\\\n",
    "\\end{cases}\n",
    "$$"
   ]
  },
  {
   "cell_type": "markdown",
   "id": "d226e9df-71f4-462b-845f-5e7ef8ff03d6",
   "metadata": {},
   "source": [
    "Получаем: \n",
    "$$\n",
    "    y_1 = 1.0370370\\\\\n",
    "    y_2 = 1.2962963\n",
    "$$"
   ]
  },
  {
   "cell_type": "markdown",
   "id": "2014ed36-2772-452a-8f85-55c0fd2fad91",
   "metadata": {},
   "source": [
    "##### **2. h = 1/6**"
   ]
  },
  {
   "cell_type": "markdown",
   "id": "3c8a37a1-57b9-4671-bfae-2ffee4ec6350",
   "metadata": {},
   "source": [
    "Заменяем в системе (1) вторую производную на её аппроксимацию:\n",
    "$$\n",
    "-\\frac{y_{i-1} - 2y_i + y_{y + 1}}{h^2} + q_iy_i \\approx f_i $$\n",
    "Аналогично прошлому решению:\n",
    "$$-9y_{i-1} + 24y_i - 9y_{i+1} = 6 - 6x_i + 6x^3_i\n",
    "$$"
   ]
  },
  {
   "cell_type": "markdown",
   "id": "ce8ec1f5-dee9-4f73-a2c1-19ae39c31ed7",
   "metadata": {},
   "source": [
    "Подставим:\n",
    "$$\n",
    "\\begin{cases}\n",
    "    y_0 = 1 \\\\\n",
    "    -36y_0 + 78y_1 - 36y_2 = 6 - 6(\\frac{1}{6}) + 6(\\frac{1}{6})^3 \\\\\n",
    "    -36y_1 + 78y_2 - 36y_3 = 6 - 6(\\frac{2}{6}) + 6(\\frac{2}{6})^3 \\\\\n",
    "    -36y_2 + 78y_3 - 36y_4 = 6 - 6(\\frac{3}{6}) + 6(\\frac{3}{6})^3 \\\\\n",
    "    -36y_3 + 78y_4 - 36y_5 = 6 - 6(\\frac{4}{6}) + 6(\\frac{4}{6})^3 \\\\\n",
    "    -36y_4 + 78y_5 - 36y_6 = 6 - 6(\\frac{5}{6}) + 6(\\frac{5}{6})^3 \\\\\n",
    "    y_6 = 2\n",
    "\\end{cases}\n",
    "$$"
   ]
  },
  {
   "cell_type": "markdown",
   "id": "09a1b3a2-aedf-4185-b8fc-c04ec9de92aa",
   "metadata": {},
   "source": [
    "Упрощаем:\n",
    "$$\n",
    "\\begin{cases}\n",
    "     78y_1 -  36y_2 = 42 - 1 + \\frac{1}{36} \\\\\n",
    "     -36y_1 + 78y_2 - 36y_3 = 6 - 2 + \\frac{8}{36} \\\\\n",
    "     -36y_2 + 78y_3 - 36y_4 = 6 - 3 + \\frac{27}{36} \\\\\n",
    "     -36y_3 + 78y_4 - 36y_5 = 6 - 4 + \\frac{64}{36} \\\\\n",
    "     -36y_4 + 78y_5 = 78 - 5 + \\frac{125}{36} \\\\\n",
    "\\end{cases}\\\\\n",
    "\\begin{cases}\n",
    "      2808y_1 - 1296y_2 = 1477 \\\\\n",
    "     -1296y_1 + 2808y_2 - 1296y_3 = 152 \\\\\n",
    "     -1296y_2 + 2808y_3 - 1296y_4 = 135 \\\\\n",
    "     -1296y_3 + 2808y_4 - 1296y_5 = 136 \\\\\n",
    "     -1296y_4 + 2808y_5 = 2753 \n",
    "\\end{cases}\n",
    "$$"
   ]
  },
  {
   "cell_type": "markdown",
   "id": "56985386-00a3-4383-8b1f-47dcb108a2e6",
   "metadata": {},
   "source": [
    "Получаем:\n",
    "$$\n",
    "    y_1 = 1.0046296\\\\\n",
    "    y_2 = 1.0370370\\\\\n",
    "    y_3 = 1.125\\\\\n",
    "    y_4 = 1.2962963\\\\\n",
    "    y_5 = 1.5787037\n",
    "$$"
   ]
  },
  {
   "cell_type": "markdown",
   "id": "b74fc438-3e52-49c2-82b4-ff944fc07915",
   "metadata": {},
   "source": [
    "#### **Рассчитаем погрешность по Рунге:**\n",
    "$$\n",
    "Формула: \\frac{|y_i(h) - y_i(h/2)|}{2^p - 1} \\\\\n",
    "p = 2\\\\\n",
    "x = \\frac{1}{3}: \\quad 0.0733825\\\\\n",
    "x = \\frac{2}{3}: \\quad 0.1158167\n",
    "$$"
   ]
  },
  {
   "cell_type": "markdown",
   "id": "d2104273-a6ba-44e5-8e3d-561f1ec60fb6",
   "metadata": {},
   "source": [
    "#### **Построим график:**"
   ]
  },
  {
   "cell_type": "code",
   "execution_count": 22,
   "id": "90799ff1-c7a0-4b3a-9320-8a6a832693b3",
   "metadata": {},
   "outputs": [
    {
     "data": {
      "text/plain": [
       "<matplotlib.legend.Legend at 0x7f4884391910>"
      ]
     },
     "execution_count": 22,
     "metadata": {},
     "output_type": "execute_result"
    },
    {
     "data": {
      "image/png": "[encoded data removed]",
      "text/plain": [
       "<Figure size 576x576 with 1 Axes>"
      ]
     },
     "metadata": {
      "needs_background": "light"
     },
     "output_type": "display_data"
    }
   ],
   "source": [
    "import matplotlib.pyplot as plt\n",
    "import numpy as np\n",
    "\n",
    "\n",
    "a = 0\n",
    "b = 1\n",
    "n1 = 4\n",
    "x1 = np.linspace(a, b, n1)\n",
    "n2 = 7\n",
    "x2 = np.linspace(a, b, n2)\n",
    "\n",
    "y1 = (1, 1.0370370, 1.2962963, 2)\n",
    "y2 = (1, 1.0046296, 1.0370370, 1.125, 1.2962963, 1.5787037, 2)\n",
    "\n",
    "plt.figure(figsize=(8, 8))\n",
    "plt.title(\"Наши функции...\") # заголовок\n",
    "plt.xlabel(\"x\") \n",
    "plt.ylabel(\"y\") \n",
    "plt.grid()\n",
    "plt.plot(x1, y1, label=\"h = 1/3\") \n",
    "plt.plot(x2, y2, label=\"h = 1/6\") \n",
    "plt.legend()"
   ]
  },
  {
   "cell_type": "code",
   "execution_count": null,
   "id": "d2916544-aa2e-42e8-9568-8a43105cc71b",
   "metadata": {},
   "outputs": [],
   "source": []
  }
 ],
 "metadata": {
  "kernelspec": {
   "display_name": "Python 3 (ipykernel)",
   "language": "python",
   "name": "python3"
  },
  "language_info": {
   "codemirror_mode": {
    "name": "ipython",
    "version": 3
   },
   "file_extension": ".py",
   "mimetype": "text/x-python",
   "name": "python",
   "nbconvert_exporter": "python",
   "pygments_lexer": "ipython3",
   "version": "3.9.5"
  }
 },
 "nbformat": 4,
 "nbformat_minor": 5
}
