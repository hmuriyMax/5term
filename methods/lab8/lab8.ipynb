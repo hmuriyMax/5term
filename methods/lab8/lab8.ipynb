{
 "cells": [
  {
   "cell_type": "markdown",
   "id": "5b6d35b5-df49-4225-a22d-3a5fbc51836a",
   "metadata": {
    "tags": []
   },
   "source": [
    "# **Лабораторная работа №8**"
   ]
  },
  {
   "cell_type": "markdown",
   "id": "94a8052c-0158-40cd-9ca1-c0ad727f184c",
   "metadata": {
    "tags": []
   },
   "source": [
    "## **Задача 8.1.28**"
   ]
  },
  {
   "cell_type": "markdown",
   "id": "451ebe0f-2341-4639-b014-bc08010fc0f4",
   "metadata": {},
   "source": [
    "Найти аналитическое и приближенное решения краевой задачи\n",
    "                            \n",
    "$$\n",
    "\\begin{cases}\n",
    "    -u'' - u' + 0 = x^2 - 2x + 3, \\quad x \\in (2,4);\\\\\n",
    "    u(2) = -1, \\quad u(4) = -6;    \n",
    "\\end{cases}\n",
    "$$\n",
    "с заданным шагом $h$. Решение системы разностных уравнений найти c помощью метода прогонки."
   ]
  },
  {
   "cell_type": "markdown",
   "id": "2951985e-bb76-4e61-974f-4b1481f35a70",
   "metadata": {},
   "source": [
    "#### **1. Найти аналитическое решение задачи.**\n",
    "$$\n",
    "\\begin{cases}\n",
    "    -u'' - u' + 0 = x^2 - 2x + 3, \\quad x \\in (2,4);\\\\\n",
    "    u(2) = -1, \\quad u(4) = -6;    \n",
    "\\end{cases}\n",
    "$$"
   ]
  },
  {
   "cell_type": "markdown",
   "id": "852a5cca-d08d-401a-bdb7-efb9995abaa3",
   "metadata": {},
   "source": [
    "Найдём решение однородного уравнения $ -u'' - u' = 0$:\n",
    "\n",
    "Характеристическое уравнение: $-\\lambda^2 - \\lambda = 0$\n",
    "\n",
    "Решения: $\\lambda_1 = 0,\\quad \\lambda_2 = -1$, кратность обоих - 1, поэтому\n",
    "$$\n",
    "u_{одн} = c_1e^{-x} + c_2\n",
    "$$"
   ]
  },
  {
   "cell_type": "markdown",
   "id": "9cdb3727-bb6d-4aae-9ccf-7725f29b1e27",
   "metadata": {},
   "source": [
    "Найдём частное решение. Так как правая часть имеет вид квадратного уравнения, а в левой минимальная степень производной - 1, то оно имеет вид $Ax^3 + Bx^2 + Cx$\n",
    "\n",
    "Подставим его в уравнение:\n",
    "$$\n",
    "-3Ax^2 -2Bx - C - 6Ax - 2B = x^2 - 2x + 3 \\\\\n",
    "\\begin{cases}\n",
    "-3A = 1 \\\\\n",
    "-2B - 6A = -2 \\\\\n",
    "-C - 2B = 3\n",
    "\\end{cases}\n",
    "$$"
   ]
  },
  {
   "cell_type": "markdown",
   "id": "bdbfe144-33fa-4a21-8704-166e6d443734",
   "metadata": {},
   "source": [
    "Решение:\n",
    "$$\n",
    "\\begin{cases}\n",
    "A = -\\frac{1}{3}\\\\\n",
    "B = 2\\\\\n",
    "C = -7\n",
    "\\end{cases}\n",
    "$$"
   ]
  },
  {
   "cell_type": "markdown",
   "id": "36cf3ca8-3d13-458a-a52d-3d3c9ee3c123",
   "metadata": {},
   "source": [
    "Значит, решение д.у.:\n",
    "$ u = c_1e^{-x} + c_2 -\\frac{1}{3}x^3 + 2x^2 - 7x $"
   ]
  },
  {
   "cell_type": "markdown",
   "id": "25e08407-d7d9-4d64-8bbf-45b0ac8f9275",
   "metadata": {},
   "source": [
    "Найдём теперь решение краевой задачи:\n",
    "$$\n",
    "\\begin{cases}\n",
    "    u(2) = -1\\\\\n",
    "    u(4) = -6\n",
    "\\end{cases} \\Leftrightarrow\n",
    "\\begin{cases}\n",
    "    C_1\\cdot e^{-2} + C_2 - \\frac{1}{3}\\cdot 8 + 2\\cdot 4 - 7\\cdot 2 = -1\\\\\n",
    "    C_1\\cdot e^{-4} + C_2 - \\frac{1}{3}\\cdot 64 + 2\\cdot 16 - 7\\cdot 4 = -6\n",
    "\\end{cases} \\Leftrightarrow\n",
    "\\begin{cases}\n",
    "    C_1 \\approx -31.334\\\\\n",
    "    C_2 \\approx 11.907\n",
    "\\end{cases}\n",
    "$$"
   ]
  },
  {
   "cell_type": "markdown",
   "id": "7c1ac3d8-00ca-437a-ba5e-bb4003b5ce5d",
   "metadata": {},
   "source": [
    "Таким образом, решение задачи следующее:\n",
    "$\n",
    "u = -31.334\\cdot e^{-x} + 11.907 -\\frac{1}{3}x^3 + 2x^2 - 7x \n",
    "$"
   ]
  },
  {
   "cell_type": "code",
   "execution_count": 1,
   "id": "3095fc09-2bea-4d59-a77b-cf871ae701ea",
   "metadata": {
    "tags": []
   },
   "outputs": [
    {
     "name": "stdout",
     "output_type": "stream",
     "text": [
      "График решения:\n"
     ]
    },
    {
     "data": {
      "text/plain": [
       "[<matplotlib.lines.Line2D at 0x7ff5dfbf6760>]"
      ]
     },
     "execution_count": 1,
     "metadata": {},
     "output_type": "execute_result"
    },
    {
     "data": {
      "image/png": "[encoded data removed]",
      "text/plain": [
       "<Figure size 648x648 with 1 Axes>"
      ]
     },
     "metadata": {
      "needs_background": "light"
     },
     "output_type": "display_data"
    }
   ],
   "source": [
    "import matplotlib.pyplot as plt\n",
    "import numpy as np\n",
    "\n",
    "\n",
    "print(\"График решения:\")\n",
    "plt.figure(figsize=(9,9))\n",
    "x = np.linspace(2, 4, 100)\n",
    "y = -31.334*np.exp(-x) + 11.907 - 1/3*x**3 + 2*x**2 - 7*x\n",
    "plt.xlabel(\"x\") \n",
    "plt.ylabel(\"u(x)\") \n",
    "plt.plot(x, y)"
   ]
  },
  {
   "cell_type": "markdown",
   "id": "87b333ad-5c89-4714-af23-0a9ca0c7abcd",
   "metadata": {},
   "source": [
    "#### **2. Cоставить разностную схему и выписать коэффициенты матрицы системы уравнений и коэффициенты правой части.**"
   ]
  },
  {
   "cell_type": "markdown",
   "id": "1293f1b4-5b16-4943-ab43-71c19eb0d4f4",
   "metadata": {},
   "source": [
    "Чтобы составить разностную схему, воспользуемся аппроксимизациями:\n",
    "$$\n",
    "    u''(x) \\approx \\frac{u_{i-1} - 2u_i + u_{i+1}}{h^2} \\quad\n",
    "    u'(x) \\approx \\frac{u_{i+1} - u_{i-1}}{2h}\n",
    "$$\n",
    "Подставляем в исходное уравнение:\n",
    "$$\n",
    "-\\frac{u_{i-1} - 2u_i + u_{i+1}}{h^2} - \\frac{u_{i+1} - u_{i-1}}{2h} = x^2 - 2x + 3\n",
    "$$"
   ]
  },
  {
   "cell_type": "markdown",
   "id": "dc50e62f-1529-4049-9494-8b24f5eec6b2",
   "metadata": {},
   "source": [
    "Немного преобразуем...\n",
    "$$\n",
    "    -2u_{i-1} + 4 u_i - 2u_{i+1} - hu_{i+1} + hu_{i-1} = 2h^2 x^2 - 4h^2x + 6h^2\\\\\n",
    "    (h - 2)u_{i-1} + 4 u_i - (h+2)u_{i+1} = 2h^2 x^2 - 4h^2x + 6h^2\n",
    "$$"
   ]
  },
  {
   "cell_type": "markdown",
   "id": "080e364b-4f7c-43df-bf13-bead0d245702",
   "metadata": {},
   "source": [
    "Получаем систему:\n",
    "$$\n",
    "\\begin{cases}\n",
    "    u_0 = -1\\\\\n",
    "    \\dots\\\\\n",
    "    (h - 2)u_{i-1} + 4 u_i - (h+2)u_{i+1} = 2h^2 (x_i^2 - 2x_i + 3)\\\\\n",
    "    \\dots\\\\\n",
    "    u_N = -6\n",
    "\\end{cases}\n",
    "$$"
   ]
  },
  {
   "cell_type": "markdown",
   "id": "3a71329b-0008-49d3-b986-2c1d242ee233",
   "metadata": {},
   "source": [
    "Матрица выглядит следующим образом:\n",
    "$$\n",
    "\\begin{pmatrix}\n",
    "    -1 & 0 & 0 & 0 & \\cdots & 0 & 0  \\\\\n",
    "    h-2 & 4 & -h-2 & 0 & \\cdots & 0 & 0  \\\\\n",
    "    0 & h-2 & 4 & -h-2 & \\cdots & 0 & 0  \\\\\n",
    "    \\vdots & \\vdots & \\ddots & \\ddots & \\ddots & \\vdots & \\vdots \\\\\n",
    "    0 & 0 &   \\cdots & h-2 & 4 & -h-2 & 0 \\\\\n",
    "    0 & 0 &   \\cdots & 0 &h-2 & 4 & -h-2 \\\\\n",
    "    0 & 0 &   \\cdots & 0 & 0 & 0 & -6\n",
    "\\end{pmatrix} \n",
    "$$"
   ]
  },
  {
   "cell_type": "markdown",
   "id": "fbb5fceb-8951-46eb-8466-ba90cdf4bae9",
   "metadata": {},
   "source": [
    "Но необходимо учесть, что $h < 2\\cdot max \\frac{|k'_i|}{k_i}$.\n",
    "\n",
    "То есть в нашем случае $h < 2$"
   ]
  },
  {
   "cell_type": "markdown",
   "id": "c129f1d9-abff-4bc8-8119-f724bb953136",
   "metadata": {},
   "source": [
    "#### **3. Найти решение задачи по разностной схеме с точностью 0.001.**"
   ]
  },
  {
   "cell_type": "markdown",
   "id": "aa9f6deb-d71b-45ae-9b8b-064012596856",
   "metadata": {},
   "source": [
    "Реализуем метод прогонки. В нашем случае\n",
    "$$\n",
    "    a_i = h-2, \\quad b_i = 4, \\quad c_i = h+2, \\quad d_i = 2h^2f_i, \\quad 1 \\leq i \\leq N-1 \\\\\n",
    "    b_0 = -1, \\quad c_0 = 0 \\\\\n",
    "    a_N = 0, \\quad b_N = -6\n",
    "$$"
   ]
  },
  {
   "cell_type": "code",
   "execution_count": 2,
   "id": "75eee3a0-9e09-440a-8c5a-2da8d8d5cc79",
   "metadata": {
    "tags": []
   },
   "outputs": [],
   "source": [
    "def analiticalAns(x):\n",
    "    return -31.334 * np.exp(-x) + 11.907 - 1 / 3 * x ** 3 + 2 * x ** 2 - 7 * x\n",
    "\n",
    "\n",
    "def f(x):\n",
    "    return x ** 2 - 2 * x + 3\n",
    "\n",
    "\n",
    "def getCoefs(a, b, c, d, N):\n",
    "    alpha = []\n",
    "    beta = []\n",
    "    alpha.append(-c[0] / b[0])\n",
    "    beta.append(d[0] / b[0])\n",
    "\n",
    "    for i in range(1, N):\n",
    "        gamma = b[i] + a[i] * alpha[i - 1]\n",
    "        alpha.append(-c[i] / gamma)\n",
    "        beta.append((d[i] - a[i] * beta[i - 1]) / gamma)\n",
    "\n",
    "    gamma = b[N] + a[N] * alpha[N - 1]\n",
    "    beta.append((d[N] - a[N] * beta[N - 1]) / gamma)\n",
    "    return (alpha, beta)\n",
    "\n",
    "\n",
    "def getUVec(tpl: tuple, u0, uN):\n",
    "    alpha = tpl[0]\n",
    "    beta = tpl[1]\n",
    "    N = len(alpha)\n",
    "    U = [0 for i in range(N + 1)]\n",
    "    U[N] = uN\n",
    "\n",
    "    for i in range(N - 1, 0, -1):\n",
    "        U[i] = alpha[i] * U[i + 1] + beta[i]\n",
    "\n",
    "    U[0] = u0\n",
    "    return U\n",
    "\n",
    "\n",
    "def getAnyX(x, UDots, h, a, b):\n",
    "    left = right = 0\n",
    "    left = a\n",
    "    right = a + h\n",
    "    i = 0\n",
    "    while right < x:\n",
    "        left = right\n",
    "        right += h\n",
    "        i += 1\n",
    "        if right > b:\n",
    "            i -= 1\n",
    "            break\n",
    "    y1 = UDots[i + 1]\n",
    "    y0 = UDots[i]\n",
    "    x0 = left\n",
    "    x1 = right\n",
    "    return (y1 - y0) / h * x + (y0 * x1 - y1 * x0) / h"
   ]
  },
  {
   "cell_type": "code",
   "execution_count": 3,
   "id": "36b76bc6-f82f-44ff-b419-29ebc656d7f3",
   "metadata": {},
   "outputs": [
    {
     "name": "stdout",
     "output_type": "stream",
     "text": [
      "128 0.0156 => 0.0002624316026889062\n",
      "256 0.0078 => 0.0002624316026889062\n",
      "512 0.0039 => 0.0002624316026889062\n",
      "1024 0.0020 => 0.0002624316026889062\n",
      "2048 0.0010 => 0.0002624316026889062\n",
      "4096 0.0005 => 0.0002624316026889062\n",
      "8192 0.0002 => 0.0002624316026889062\n",
      "16384 0.0001 => 0.0002624316026889062\n"
     ]
    },
    {
     "ename": "KeyboardInterrupt",
     "evalue": "",
     "output_type": "error",
     "traceback": [
      "\u001b[0;31m---------------------------------------------------------------------------\u001b[0m",
      "\u001b[0;31mKeyboardInterrupt\u001b[0m                         Traceback (most recent call last)",
      "\u001b[0;32m/tmp/ipykernel_16531/4263685465.py\u001b[0m in \u001b[0;36m<module>\u001b[0;34m\u001b[0m\n\u001b[1;32m     32\u001b[0m \u001b[0;32mwhile\u001b[0m \u001b[0mdelta\u001b[0m \u001b[0;34m>\u001b[0m \u001b[0meps\u001b[0m\u001b[0;34m/\u001b[0m\u001b[0;36m10\u001b[0m\u001b[0;34m:\u001b[0m\u001b[0;34m\u001b[0m\u001b[0;34m\u001b[0m\u001b[0m\n\u001b[1;32m     33\u001b[0m     \u001b[0mN\u001b[0m \u001b[0;34m*=\u001b[0m \u001b[0;36m2\u001b[0m\u001b[0;34m\u001b[0m\u001b[0;34m\u001b[0m\u001b[0m\n\u001b[0;32m---> 34\u001b[0;31m     \u001b[0mdelta\u001b[0m \u001b[0;34m=\u001b[0m \u001b[0mgetEps\u001b[0m\u001b[0;34m(\u001b[0m\u001b[0mA\u001b[0m\u001b[0;34m,\u001b[0m \u001b[0mB\u001b[0m\u001b[0;34m,\u001b[0m \u001b[0mUa\u001b[0m\u001b[0;34m,\u001b[0m \u001b[0mUb\u001b[0m\u001b[0;34m,\u001b[0m \u001b[0mN\u001b[0m\u001b[0;34m)\u001b[0m\u001b[0;34m\u001b[0m\u001b[0;34m\u001b[0m\u001b[0m\n\u001b[0m\u001b[1;32m     35\u001b[0m     \u001b[0mprint\u001b[0m\u001b[0;34m(\u001b[0m\u001b[0;34m\"{:2} {:.4f}\"\u001b[0m\u001b[0;34m.\u001b[0m\u001b[0mformat\u001b[0m\u001b[0;34m(\u001b[0m\u001b[0mN\u001b[0m\u001b[0;34m,\u001b[0m \u001b[0;34m(\u001b[0m\u001b[0mB\u001b[0m\u001b[0;34m-\u001b[0m\u001b[0mA\u001b[0m\u001b[0;34m)\u001b[0m\u001b[0;34m/\u001b[0m\u001b[0mN\u001b[0m\u001b[0;34m)\u001b[0m\u001b[0;34m,\u001b[0m \u001b[0mend\u001b[0m\u001b[0;34m=\u001b[0m\u001b[0;34m\" => \"\u001b[0m\u001b[0;34m)\u001b[0m\u001b[0;34m\u001b[0m\u001b[0;34m\u001b[0m\u001b[0m\n\u001b[1;32m     36\u001b[0m     \u001b[0mprint\u001b[0m\u001b[0;34m(\u001b[0m\u001b[0mdelta\u001b[0m\u001b[0;34m)\u001b[0m\u001b[0;34m\u001b[0m\u001b[0;34m\u001b[0m\u001b[0m\n",
      "\u001b[0;32m/tmp/ipykernel_16531/4263685465.py\u001b[0m in \u001b[0;36mgetEps\u001b[0;34m(A, B, Ua, Ub, N)\u001b[0m\n\u001b[1;32m     24\u001b[0m     \u001b[0mdeltas\u001b[0m \u001b[0;34m=\u001b[0m \u001b[0;34m[\u001b[0m\u001b[0;34m]\u001b[0m\u001b[0;34m\u001b[0m\u001b[0;34m\u001b[0m\u001b[0m\n\u001b[1;32m     25\u001b[0m     \u001b[0;32mfor\u001b[0m \u001b[0mxi\u001b[0m \u001b[0;32min\u001b[0m \u001b[0mx\u001b[0m\u001b[0;34m:\u001b[0m\u001b[0;34m\u001b[0m\u001b[0;34m\u001b[0m\u001b[0m\n\u001b[0;32m---> 26\u001b[0;31m         \u001b[0mdelta\u001b[0m \u001b[0;34m=\u001b[0m \u001b[0manaliticalAns\u001b[0m\u001b[0;34m(\u001b[0m\u001b[0mxi\u001b[0m\u001b[0;34m)\u001b[0m \u001b[0;34m-\u001b[0m \u001b[0mgetAnyX\u001b[0m\u001b[0;34m(\u001b[0m\u001b[0mxi\u001b[0m\u001b[0;34m,\u001b[0m \u001b[0mudots\u001b[0m\u001b[0;34m,\u001b[0m \u001b[0mh\u001b[0m\u001b[0;34m,\u001b[0m \u001b[0mA\u001b[0m\u001b[0;34m,\u001b[0m \u001b[0mB\u001b[0m\u001b[0;34m)\u001b[0m\u001b[0;34m\u001b[0m\u001b[0;34m\u001b[0m\u001b[0m\n\u001b[0m\u001b[1;32m     27\u001b[0m         \u001b[0mdeltas\u001b[0m\u001b[0;34m.\u001b[0m\u001b[0mappend\u001b[0m\u001b[0;34m(\u001b[0m\u001b[0mabs\u001b[0m\u001b[0;34m(\u001b[0m\u001b[0mdelta\u001b[0m\u001b[0;34m)\u001b[0m\u001b[0;34m)\u001b[0m\u001b[0;34m\u001b[0m\u001b[0;34m\u001b[0m\u001b[0m\n\u001b[1;32m     28\u001b[0m \u001b[0;34m\u001b[0m\u001b[0m\n",
      "\u001b[0;32m/tmp/ipykernel_16531/3659548560.py\u001b[0m in \u001b[0;36mgetAnyX\u001b[0;34m(x, UDots, h, a, b)\u001b[0m\n\u001b[1;32m     42\u001b[0m     \u001b[0mright\u001b[0m \u001b[0;34m=\u001b[0m \u001b[0ma\u001b[0m \u001b[0;34m+\u001b[0m \u001b[0mh\u001b[0m\u001b[0;34m\u001b[0m\u001b[0;34m\u001b[0m\u001b[0m\n\u001b[1;32m     43\u001b[0m     \u001b[0mi\u001b[0m \u001b[0;34m=\u001b[0m \u001b[0;36m0\u001b[0m\u001b[0;34m\u001b[0m\u001b[0;34m\u001b[0m\u001b[0m\n\u001b[0;32m---> 44\u001b[0;31m     \u001b[0;32mwhile\u001b[0m \u001b[0mright\u001b[0m \u001b[0;34m<\u001b[0m \u001b[0mx\u001b[0m\u001b[0;34m:\u001b[0m\u001b[0;34m\u001b[0m\u001b[0;34m\u001b[0m\u001b[0m\n\u001b[0m\u001b[1;32m     45\u001b[0m         \u001b[0mleft\u001b[0m \u001b[0;34m=\u001b[0m \u001b[0mright\u001b[0m\u001b[0;34m\u001b[0m\u001b[0;34m\u001b[0m\u001b[0m\n\u001b[1;32m     46\u001b[0m         \u001b[0mright\u001b[0m \u001b[0;34m+=\u001b[0m \u001b[0mh\u001b[0m\u001b[0;34m\u001b[0m\u001b[0;34m\u001b[0m\u001b[0m\n",
      "\u001b[0;31mKeyboardInterrupt\u001b[0m: "
     ]
    }
   ],
   "source": [
    "A = 2\n",
    "B = 4\n",
    "Ua = -1\n",
    "Ub = -6\n",
    "eps = 1e-3\n",
    "N = 64\n",
    "\n",
    "def getEps(A, B, Ua, Ub, N):\n",
    "    h = (B-A)/N\n",
    "    x = np.linspace(A, B, N+1)\n",
    "    a = [h - 2 for _ in range(N+1)]\n",
    "    b = [4 for _ in range(N+1)]\n",
    "    c = [-h - 2 for _ in range(N+1)]\n",
    "    d = [2*h**2*f(x[i]) for i in range(N+1)]\n",
    "    \n",
    "    d[0] = Ua\n",
    "    d[N] = Ub\n",
    "    b[0] = 1\n",
    "    c[0] = 0\n",
    "    a[N] = 0\n",
    "    b[N] = -6\n",
    "\n",
    "    udots = getUVec(getCoefs(a,b,c,d,N), Ua, Ub)\n",
    "    deltas = []\n",
    "    for xi in x:\n",
    "        delta = analiticalAns(xi) - getAnyX(xi, udots, h, A, B)\n",
    "        deltas.append(abs(delta))\n",
    "\n",
    "    return max(deltas)\n",
    "\n",
    "delta = getEps(A, B, Ua, Ub, N)\n",
    "while delta > eps/10:\n",
    "    N *= 2\n",
    "    delta = getEps(A, B, Ua, Ub, N)\n",
    "    print(\"{:2} {:.4f}\".format(N, (B-A)/N), end=\" => \")\n",
    "    print(delta)"
   ]
  },
  {
   "cell_type": "markdown",
   "id": "302855e1-0f76-4b96-9f28-6532120c09aa",
   "metadata": {
    "tags": []
   },
   "source": [
    "#### **4. Построить на одном чертеже графики приближенного и аналитического решений, и график погрешности.**"
   ]
  },
  {
   "cell_type": "code",
   "execution_count": null,
   "id": "b962ce61-e32b-4563-86dd-30d0843e159b",
   "metadata": {},
   "outputs": [],
   "source": [
    "plt.figure(figsize=(9,9))\n",
    "N = 50\n",
    "h = (B-A)/N\n",
    "x = np.linspace(A, B, N+1)\n",
    "a = [h - 2 for _ in range(N+1)]\n",
    "b = [4 for _ in range(N+1)]\n",
    "c = [-h - 2 for _ in range(N+1)]\n",
    "d = [2*h**2*f(x[i]) for i in range(N+1)]\n",
    "\n",
    "d[0] = Ua\n",
    "d[N] = Ub\n",
    "b[0] = 1\n",
    "c[0] = 0\n",
    "a[N] = 0\n",
    "b[N] = -6\n",
    "\n",
    "y1 = -31.334*np.exp(-x) + 11.907 - 1/3*x**3 + 2*x**2 - 7*x\n",
    "\n",
    "y2 = [getAnyX(xi, getUVec(getCoefs(a, b, c, d, N), Ua, Ub), h, A, B) for xi in x]\n",
    "plt.xlabel(\"x\") \n",
    "plt.ylabel(\"u(x)\") \n",
    "plt.plot(x, y1)\n",
    "plt.plot(x, y2)\n",
    "# for el in getUVec(getCoefs(a, b, c, d, N), Ua, Ub):\n",
    "#     print(el)"
   ]
  },
  {
   "cell_type": "code",
   "execution_count": null,
   "id": "a19b8c2c-bae9-48b1-9f2e-604407e0ff37",
   "metadata": {},
   "outputs": [],
   "source": []
  },
  {
   "cell_type": "code",
   "execution_count": null,
   "id": "62221684-4dbb-4bfc-9737-f9d3f71018df",
   "metadata": {},
   "outputs": [],
   "source": []
  }
 ],
 "metadata": {
  "kernelspec": {
   "display_name": "Python 3 (ipykernel)",
   "language": "python",
   "name": "python3"
  },
  "language_info": {
   "codemirror_mode": {
    "name": "ipython",
    "version": 3
   },
   "file_extension": ".py",
   "mimetype": "text/x-python",
   "name": "python",
   "nbconvert_exporter": "python",
   "pygments_lexer": "ipython3",
   "version": "3.8.10"
  }
 },
 "nbformat": 4,
 "nbformat_minor": 5
}
