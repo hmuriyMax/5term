{
 "cells": [
  {
   "cell_type": "markdown",
   "id": "5b6d35b5-df49-4225-a22d-3a5fbc51836a",
   "metadata": {
    "tags": []
   },
   "source": [
    "# **Лабораторная работа №8**"
   ]
  },
  {
   "cell_type": "markdown",
   "id": "94a8052c-0158-40cd-9ca1-c0ad727f184c",
   "metadata": {
    "tags": []
   },
   "source": [
    "## **Задача 8.1.28**"
   ]
  },
  {
   "cell_type": "markdown",
   "id": "451ebe0f-2341-4639-b014-bc08010fc0f4",
   "metadata": {},
   "source": [
    "Дана задача Коши для системы двух обыкновенных дифференциальных уравнений \n",
    "                            \n",
    "$$\n",
    "\\begin{cases}\n",
    "    u' = \\frac{u^2}{v}\\\\\n",
    "    v' = \\frac{u}{(v + t)^2}\\\\\n",
    "    u(0) = 1, v(0) = 1    \n",
    "\\end{cases}\n",
    "$$"
   ]
  },
  {
   "cell_type": "markdown",
   "id": "2951985e-bb76-4e61-974f-4b1481f35a70",
   "metadata": {},
   "source": [
    "#### **1. Модифицировать программу решения задачи по  явному методу Эйлера из лабораторной работы 6 для решения системы дифференциальных уравнений.**\n",
    "Найти приближенное решение задачи Коши с шагом $ h=0.01 $. на отрезке $[0,1]$. Оценить величину погрешности по правилу Рунге."
   ]
  }
 ],
 "metadata": {
  "kernelspec": {
   "display_name": "Python 3 (ipykernel)",
   "language": "python",
   "name": "python3"
  },
  "language_info": {
   "codemirror_mode": {
    "name": "ipython",
    "version": 3
   },
   "file_extension": ".py",
   "mimetype": "text/x-python",
   "name": "python",
   "nbconvert_exporter": "python",
   "pygments_lexer": "ipython3",
   "version": "3.8.10"
  }
 },
 "nbformat": 4,
 "nbformat_minor": 5
}
