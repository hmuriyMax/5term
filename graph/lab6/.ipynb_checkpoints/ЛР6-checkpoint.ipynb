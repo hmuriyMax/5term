{
 "cells": [
  {
   "cell_type": "code",
   "execution_count": 1,
   "id": "775f2c6b-45b0-47f0-a929-daee92acc1a5",
   "metadata": {},
   "outputs": [
    {
     "name": "stderr",
     "output_type": "stream",
     "text": [
      "2021-11-10 11:52:26.982937: W tensorflow/stream_executor/platform/default/dso_loader.cc:64] Could not load dynamic library 'libcudart.so.11.0'; dlerror: libcudart.so.11.0: cannot open shared object file: No such file or directory\n",
      "2021-11-10 11:52:26.983065: I tensorflow/stream_executor/cuda/cudart_stub.cc:29] Ignore above cudart dlerror if you do not have a GPU set up on your machine.\n"
     ]
    }
   ],
   "source": [
    "import time \n",
    "import matplotlib.pyplot as plt\n",
    "import numpy as np\n",
    "import tensorflow as tf\n",
    "from tensorflow import keras\n",
    "from keras.layers import Input, Dense, Flatten, Reshape, Dropout, Conv2D, MaxPooling2D\n",
    "from keras.models import Model"
   ]
  },
  {
   "cell_type": "code",
   "execution_count": 2,
   "id": "61a9176b-56e4-4dbe-aff3-42ccfce8b72a",
   "metadata": {},
   "outputs": [],
   "source": [
    "pathToData = ''\n",
    "num_classes = 0\n",
    "pathToHistory = ''\n",
    "def upd(mnist):\n",
    "    global pathToData, num_classes, pathToHistory\n",
    "    pathToData = 'mnist/' if mnist else 'emnist/'\n",
    "    num_classes = 10 if mnist else 27\n",
    "    pathToHistory = 'mnist/' if mnist else 'emnist/'\n",
    "\n",
    "img_rows = img_cols = 28\n",
    "show_k = True  # False True\n",
    "svert = True\n",
    "pred = True\n",
    "mnist = not True\n",
    "upd(mnist)\n",
    "refit = True\n",
    "loss_func = 'poisson' #categorical_crossentropy poisson mse\n",
    "epochs = 50\n",
    "fn_model = pathToData + 'lk3.h5'\n",
    "#\n",
    "suff = '.txt'\n",
    "# Имена файлов, в которые сохраняется история обучения\n",
    "fn_loss = pathToHistory + 'loss_' + suff\n",
    "fn_acc = pathToHistory + 'acc_' + suff\n",
    "fn_val_loss = pathToHistory + 'val_loss_' + suff\n",
    "fn_val_acc = pathToHistory + 'val_acc_' + suff"
   ]
  },
  {
   "cell_type": "code",
   "execution_count": 3,
   "id": "7027b759-0314-4336-8937-15a76135a098",
   "metadata": {},
   "outputs": [],
   "source": [
    "def ch(i):\n",
    "    if svert:\n",
    "        if i < 10:\n",
    "            return i\n",
    "        else:\n",
    "            return str(chr(ord('A')+i-10))\n",
    "    elif mnist:\n",
    "        return i\n",
    "    elif not mnist:\n",
    "        return str(chr(ord('A')+i-1))\n",
    "\n",
    "\n",
    "def show_x(x, y, img_rows, img_cols, N):\n",
    "    n = int(np.sqrt(N))\n",
    "    plt.figure(figsize=(10,10))\n",
    "    for i, j in enumerate(np.random.randint(len(x), size=n * n)):\n",
    "        plt.subplot(n, n, i+1)\n",
    "        # Убираем 3-е измерение\n",
    "        plt.title(ch(y[j]))\n",
    "        plt.imshow(x[j].reshape(img_rows, img_cols), cmap='gray')\n",
    "        plt.axis('off')\n",
    "    plt.show()"
   ]
  },
  {
   "cell_type": "code",
   "execution_count": 4,
   "id": "e2f30925-b985-4ff4-b52f-8277fe56dd8c",
   "metadata": {},
   "outputs": [],
   "source": [
    "def one_plot(n, y_lb, loss_acc, val_loss_acc):\n",
    "    plt.subplot(1, 2, n)\n",
    "    if n == 1:\n",
    "        lb, lb2 = 'loss', 'val_loss'\n",
    "        yMin = 0\n",
    "        yMax = 1.05 * max(max(loss_acc), max(val_loss_acc))\n",
    "    else:\n",
    "        lb, lb2 = 'acc', 'val_acc'\n",
    "        yMin = min(min(loss_acc), min(val_loss_acc))\n",
    "        yMax = 1.0\n",
    "    plt.plot(loss_acc, color='r', label=lb, linestyle='--')\n",
    "    plt.plot(val_loss_acc, color='g', label=lb2)\n",
    "    plt.ylabel(y_lb)\n",
    "    plt.xlabel('Эпоха')\n",
    "    plt.ylim([0.95 * yMin, yMax])\n",
    "    plt.legend()\n",
    "# \n",
    "def loadBinData(pathToData, img_rows, img_cols):\n",
    "    print('Загрузка данных из двоичных файлов...')\n",
    "    with open(pathToData + 'imagesTrain.bin', 'rb') as read_binary:\n",
    "        x_train = np.fromfile(read_binary, dtype=np.uint8)\n",
    "    with open(pathToData + 'labelsTrain.bin', 'rb') as read_binary:\n",
    "        y_train = np.fromfile(read_binary, dtype=np.uint8)\n",
    "    with open(pathToData + 'imagesTest.bin', 'rb') as read_binary:\n",
    "        x_test = np.fromfile(read_binary, dtype=np.uint8)\n",
    "    with open(pathToData + 'labelsTest.bin', 'rb') as read_binary:\n",
    "        y_test = np.fromfile(read_binary, dtype=np.uint8)\n",
    "    # Преобразование целочисленных данных в float32 и нормализация; данные лежат в диапазоне [0.0, 1.0]\n",
    "    x_train = np.array(x_train, dtype='float32') / 255\n",
    "    x_test = np.array(x_test, dtype='float32') / 255\n",
    "    x_train = x_train.reshape(-1, img_rows, img_cols)\n",
    "    x_test = x_test.reshape(-1, img_rows, img_cols)\n",
    "    # Преобразование в категориальное представление: метки - числа из диапазона [0, 9] в двоичный вектор размера num_classes\n",
    "    # Так, в случае MNIST метка 5 (соответствует классу 6) будет преобразована в вектор [0. 0. 0. 0. 0. 0. 1. 0. 0. 0.]\n",
    "    # print(y_train[0]) # (MNIST) Напечатает: 5\n",
    "    print('Преобразуем массивы меток в категориальное представление')\n",
    "    y_train = tf.keras.utils.to_categorical(y_train, num_classes)\n",
    "    y_test = tf.keras.utils.to_categorical(y_test, num_classes)\n",
    "    # print(y_train[0]) # (MNIST) Напечатает: [0. 0. 0. 0. 0. 1. 0. 0. 0. 0.]\n",
    "    return x_train, y_train, x_test, y_test"
   ]
  },
  {
   "cell_type": "code",
   "execution_count": 5,
   "id": "00f02e90-71ec-4f46-aee6-0f7de172b4db",
   "metadata": {},
   "outputs": [
    {
     "name": "stdout",
     "output_type": "stream",
     "text": [
      "Загрузка данных из двоичных файлов...\n",
      "Преобразуем массивы меток в категориальное представление\n",
      "(60000, 28, 28) (60000, 10) (10000, 28, 28) (10000, 10)\n",
      "Загрузка данных из двоичных файлов...\n",
      "Преобразуем массивы меток в категориальное представление\n",
      "(124800, 28, 28) (124800, 27) (20800, 28, 28) (20800, 27)\n",
      "(184800, 28, 28) (184800, 37) (30800, 28, 28) (30800, 37)\n"
     ]
    },
    {
     "data": {
      "image/png": "[encoded data removed]",
      "text/plain": [
       "<Figure size 720x720 with 25 Axes>"
      ]
     },
     "metadata": {
      "needs_background": "light"
     },
     "output_type": "display_data"
    },
    {
     "name": "stdout",
     "output_type": "stream",
     "text": [
      "(184800, 28, 28, 1)\n"
     ]
    },
    {
     "name": "stderr",
     "output_type": "stream",
     "text": [
      "2021-11-10 11:53:14.052517: I tensorflow/stream_executor/cuda/cuda_gpu_executor.cc:937] successful NUMA node read from SysFS had negative value (-1), but there must be at least one NUMA node, so returning NUMA node zero\n",
      "2021-11-10 11:53:14.072075: W tensorflow/stream_executor/platform/default/dso_loader.cc:64] Could not load dynamic library 'libcudart.so.11.0'; dlerror: libcudart.so.11.0: cannot open shared object file: No such file or directory\n",
      "2021-11-10 11:53:14.072429: W tensorflow/stream_executor/platform/default/dso_loader.cc:64] Could not load dynamic library 'libcublas.so.11'; dlerror: libcublas.so.11: cannot open shared object file: No such file or directory\n",
      "2021-11-10 11:53:14.072780: W tensorflow/stream_executor/platform/default/dso_loader.cc:64] Could not load dynamic library 'libcublasLt.so.11'; dlerror: libcublasLt.so.11: cannot open shared object file: No such file or directory\n",
      "2021-11-10 11:53:14.073083: W tensorflow/stream_executor/platform/default/dso_loader.cc:64] Could not load dynamic library 'libcufft.so.10'; dlerror: libcufft.so.10: cannot open shared object file: No such file or directory\n",
      "2021-11-10 11:53:14.073354: W tensorflow/stream_executor/platform/default/dso_loader.cc:64] Could not load dynamic library 'libcurand.so.10'; dlerror: libcurand.so.10: cannot open shared object file: No such file or directory\n",
      "2021-11-10 11:53:14.073617: W tensorflow/stream_executor/platform/default/dso_loader.cc:64] Could not load dynamic library 'libcusolver.so.11'; dlerror: libcusolver.so.11: cannot open shared object file: No such file or directory\n",
      "2021-11-10 11:53:14.073879: W tensorflow/stream_executor/platform/default/dso_loader.cc:64] Could not load dynamic library 'libcusparse.so.11'; dlerror: libcusparse.so.11: cannot open shared object file: No such file or directory\n",
      "2021-11-10 11:53:14.074413: W tensorflow/stream_executor/platform/default/dso_loader.cc:64] Could not load dynamic library 'libcudnn.so.8'; dlerror: libcudnn.so.8: cannot open shared object file: No such file or directory\n",
      "2021-11-10 11:53:14.074441: W tensorflow/core/common_runtime/gpu/gpu_device.cc:1835] Cannot dlopen some GPU libraries. Please make sure the missing libraries mentioned above are installed properly if you would like to use GPU. Follow the guide at https://www.tensorflow.org/install/gpu for how to download and setup the required libraries for your platform.\n",
      "Skipping registering GPU devices...\n",
      "2021-11-10 11:53:14.088262: I tensorflow/core/platform/cpu_feature_guard.cc:142] This TensorFlow binary is optimized with oneAPI Deep Neural Network Library (oneDNN) to use the following CPU instructions in performance-critical operations:  AVX2 FMA\n",
      "To enable them in other operations, rebuild TensorFlow with the appropriate compiler flags.\n"
     ]
    },
    {
     "name": "stdout",
     "output_type": "stream",
     "text": [
      "Model: \"sequential\"\n",
      "_________________________________________________________________\n",
      "Layer (type)                 Output Shape              Param #   \n",
      "=================================================================\n",
      "conv2d (Conv2D)              (None, 28, 28, 32)        320       \n",
      "_________________________________________________________________\n",
      "max_pooling2d (MaxPooling2D) (None, 14, 14, 32)        0         \n",
      "_________________________________________________________________\n",
      "conv2d_1 (Conv2D)            (None, 14, 14, 64)        18496     \n",
      "_________________________________________________________________\n",
      "max_pooling2d_1 (MaxPooling2 (None, 7, 7, 64)          0         \n",
      "_________________________________________________________________\n",
      "flatten (Flatten)            (None, 3136)              0         \n",
      "_________________________________________________________________\n",
      "dropout (Dropout)            (None, 3136)              0         \n",
      "_________________________________________________________________\n",
      "dense (Dense)                (None, 1024)              3212288   \n",
      "_________________________________________________________________\n",
      "dropout_1 (Dropout)          (None, 1024)              0         \n",
      "_________________________________________________________________\n",
      "dense_1 (Dense)              (None, 52)                53300     \n",
      "_________________________________________________________________\n",
      "dense_2 (Dense)              (None, 37)                1961      \n",
      "=================================================================\n",
      "Total params: 3,286,365\n",
      "Trainable params: 3,286,365\n",
      "Non-trainable params: 0\n",
      "_________________________________________________________________\n",
      "None\n"
     ]
    }
   ],
   "source": [
    "def addZeros(num_classes, y_train, y_train1):\n",
    "    tmp1 = np.zeros((y_train.shape[0], num_classes - y_train.shape[1]))\n",
    "    tmp2 = np.zeros((y_train1.shape[0], num_classes - y_train1.shape[1]))\n",
    "    y_train = np.concatenate([y_train, tmp1], axis = 1)\n",
    "    y_train1 = np.concatenate([tmp2, y_train1], axis = 1)\n",
    "    return y_train, y_train1\n",
    "\n",
    "\n",
    "if svert:\n",
    "    mnist = True\n",
    "    upd(mnist)\n",
    "    x_train, y_train, x_test, y_test = loadBinData(pathToData, img_rows, img_cols)\n",
    "    print(x_train.shape, y_train.shape, x_test.shape, y_test.shape)\n",
    "    mnist = False\n",
    "    upd(mnist)\n",
    "    x_train1, y_train1, x_test1, y_test1 = loadBinData(pathToData, img_rows, img_cols)\n",
    "    print(x_train1.shape, y_train1.shape, x_test1.shape, y_test1.shape)\n",
    "    num_classes = 37\n",
    "    x_train = np.concatenate([x_train, x_train1], axis = 0)\n",
    "    x_test = np.concatenate([x_test, x_test1], axis = 0)\n",
    "    y_train, y_train1 = addZeros(num_classes, y_train, y_train1)\n",
    "    y_train = np.concatenate([y_train, y_train1], axis = 0)\n",
    "    y_test, y_test1 = addZeros(num_classes, y_test, y_test1)\n",
    "    y_test = np.concatenate([y_test, y_test1], axis = 0)\n",
    "else:\n",
    "    x_train, y_train, x_test, y_test = loadBinData(pathToData, img_rows, img_cols)\n",
    "    \n",
    "print(x_train.shape, y_train.shape, x_test.shape, y_test.shape)\n",
    "if show_k:\n",
    "    show_x(x_test, np.array([np.argmax(m) for m in y_test]), img_rows, img_cols, 25)\n",
    "#\n",
    "# Определяем форму входных данных\n",
    "input_shape = (img_rows, img_cols, 1)\n",
    "\n",
    "# 0.35-DR1024-0.2-DL52\n",
    "\n",
    "if svert:\n",
    "    x_train = np.expand_dims(x_train, axis=3)\n",
    "    x_test = np.expand_dims(x_test, axis=3)\n",
    "\n",
    "    print( x_train.shape )\n",
    "    \n",
    "    model = keras.Sequential()\n",
    "    model.add(Conv2D(32, (3,3), padding='same', activation='relu', input_shape=(28, 28, 1)))\n",
    "    model.add(MaxPooling2D((2, 2), strides=2))\n",
    "    model.add(Conv2D(64, (3,3), padding='same', activation='relu'))\n",
    "    model.add(MaxPooling2D((2, 2), strides=2))\n",
    "    model.add(Flatten())\n",
    "    model.add(Dropout(0.35))\n",
    "    model.add(Dense(1024,  activation='relu'))\n",
    "    model.add(Dropout(0.2))\n",
    "    model.add(Dense(52,  activation='LeakyReLU'))\n",
    "    model.add(Dense(num_classes,  activation='softmax'))\n",
    "    # model.add(Dense(64, activation='relu'))\n",
    "    # model.add(Dense(num_classes,  activation='softmax'))\n",
    "else:\n",
    "    # x_shape = img_rows * img_cols\n",
    "\n",
    "    # x_train = x_train.reshape(-1, x_shape)\n",
    "    # x_test = x_test.reshape(-1, x_shape)\n",
    "\n",
    "    # Создание модели нейронной сети\n",
    "    model = keras.Sequential() \n",
    "    model.add(Flatten(input_shape=input_shape)) \n",
    "    # model.add(Reshape(target_shape=(img_rows * img_cols,), input_shape=input_shape)) \n",
    "    # model.add(keras.Input(x_shape)) \n",
    "    model.add(Dense(784, activation='relu')) \n",
    "    model.add(Dense(512, activation='relu')) \n",
    "    model.add(Dense(128, activation='relu')) \n",
    "    # model.add(Dense(64, activation='LeakyReLU')) \n",
    "    model.add(Dropout(0.5))\n",
    "    model.add(Dense(num_classes, activation='softmax'))\n",
    "print(model.summary())"
   ]
  },
  {
   "cell_type": "code",
   "execution_count": 1,
   "id": "3a329b0e-05b3-4452-9f1e-d4c445e6fd45",
   "metadata": {},
   "outputs": [],
   "source": [
    "def test_compile():\n",
    "    from keras.models import load_model\n",
    "\n",
    "    model = load_model(fn_model)\n",
    "    # Оценка модели НС на тестовых данных\n",
    "    score = model.evaluate(x_test, y_test)\n",
    "    # Вывод потерь и точности\n",
    "    print('Потери при тестировании:', round(score[0], 4))\n",
    "    print('Точность при тестировании: {}{}'.format(score[1] * 100, '%'))\n",
    "    # Прогноз\n",
    "    y_pred = model.predict(x_test)\n",
    "    # print(y_pred[0])\n",
    "    # print(y_test[0])\n",
    "    # [6.8e-6 1.5e-10 7.6e-6 1.5e-3 7.0e-9 6.2e-5 2.2e-11 9.9e-1 3.0e-7 5.9e-6]\n",
    "    # [0.     0.      0.     0.     0.     0.     0.      1.     0.     0.]\n",
    "    # Заносим в массив predicted_classes метки классов, предсказанных моделью НС\n",
    "    predicted_classes = np.array([np.argmax(m) for m in y_pred])\n",
    "    true_classes = np.array([np.argmax(m) for m in y_test])\n",
    "    n_test = len(y_test)\n",
    "    # Число верно классифицированных изображений\n",
    "    true_classified = np.sum(predicted_classes == true_classes)\n",
    "    # Число ошибочно классифицированных изображений\n",
    "    false_classified = n_test - true_classified\n",
    "    acc = 100.0 * true_classified / n_test\n",
    "    print('Точность: {}{}'.format(acc, '%'))\n",
    "    print('Неверно классифицированно:', false_classified)\n",
    "    m, m_max = 0, 15\n",
    "    lst_false = []\n",
    "    print('  Индекс  | Прогноз | Правильный класс')\n",
    "    for i in range(n_test):\n",
    "        cls_pred = predicted_classes[i]  # Предсказанное моделью имя класса\n",
    "        cls_true = true_classes[i]  # Истинное имя класса\n",
    "        if cls_pred != cls_true:\n",
    "            m += 1\n",
    "            lst_false.append([i, cls_pred, cls_true])\n",
    "            if (m < min(m_max, false_classified)): \n",
    "                print('  {:5d}   |    {}    |    {}'.format(i, ch(cls_pred), ch(cls_true)))\n",
    "    print('...')\n",
    "    \n",
    "    corr_classes = [0 for i in range(num_classes)]\n",
    "    wrng_classes = [0 for i in range(num_classes)]\n",
    "    for i in range(n_test):\n",
    "        tru = true_classes[i]\n",
    "        got = predicted_classes[i]\n",
    "        if tru == got:\n",
    "            corr_classes[tru] += 1\n",
    "        else:\n",
    "            wrng_classes[tru] += 1\n",
    "    \n",
    "    print('Точность по классам:')\n",
    "    print('Класс | Точность ')\n",
    "    for i in range(0, num_classes):\n",
    "        print('{:5} | {:10.5f}'.format(ch(i), corr_classes[i]/(corr_classes[i] + wrng_classes[i]+1)*100))\n",
    "    \n",
    "    plt.figure('Ошибки классификации')\n",
    "    for k in range(15):\n",
    "        plt.subplot(3, 5, k + 1)\n",
    "        num = np.random.randint(len(lst_false))\n",
    "        lst = lst_false[num]\n",
    "        plt.imshow(x_test[lst[0]].reshape(img_rows, img_cols), cmap='gray')\n",
    "        plt.title('{}/{}'.format(ch(lst[1]), ch(lst[2])))\n",
    "        plt.axis('off')\n",
    "    plt.show()"
   ]
  },
  {
   "cell_type": "code",
   "execution_count": 7,
   "id": "6b19e350-199e-4a2a-974d-b11477c211c3",
   "metadata": {},
   "outputs": [
    {
     "name": "stderr",
     "output_type": "stream",
     "text": [
      "2021-11-10 11:53:14.941346: W tensorflow/core/framework/cpu_allocator_impl.cc:80] Allocation of 579532800 exceeds 10% of free system memory.\n",
      "2021-11-10 11:53:15.660119: W tensorflow/core/framework/cpu_allocator_impl.cc:80] Allocation of 27350400 exceeds 10% of free system memory.\n",
      "2021-11-10 11:53:15.985033: I tensorflow/compiler/mlir/mlir_graph_optimization_pass.cc:185] None of the MLIR Optimization Passes are enabled (registered 2)\n"
     ]
    },
    {
     "name": "stdout",
     "output_type": "stream",
     "text": [
      "Epoch 1/50\n",
      "   1/2888 [..............................] - ETA: 1:55:03 - loss: 3.6267 - accuracy: 0.0000e+00"
     ]
    },
    {
     "name": "stderr",
     "output_type": "stream",
     "text": [
      "2021-11-10 11:53:18.672595: W tensorflow/core/framework/cpu_allocator_impl.cc:80] Allocation of 20321280 exceeds 10% of free system memory.\n",
      "2021-11-10 11:53:18.734281: W tensorflow/core/framework/cpu_allocator_impl.cc:80] Allocation of 20321280 exceeds 10% of free system memory.\n"
     ]
    },
    {
     "name": "stdout",
     "output_type": "stream",
     "text": [
      "   3/2888 [..............................] - ETA: 6:17 - loss: 3.5851 - accuracy: 0.0417     "
     ]
    },
    {
     "name": "stderr",
     "output_type": "stream",
     "text": [
      "2021-11-10 11:53:18.877741: W tensorflow/core/framework/cpu_allocator_impl.cc:80] Allocation of 20321280 exceeds 10% of free system memory.\n"
     ]
    },
    {
     "name": "stdout",
     "output_type": "stream",
     "text": [
      "2888/2888 [==============================] - 271s 93ms/step - loss: 0.3640 - accuracy: 0.8869 - val_loss: 0.1844 - val_accuracy: 0.9419\n",
      "Epoch 2/50\n",
      "1992/2888 [===================>..........] - ETA: 1:23 - loss: 0.1891 - accuracy: 0.9376"
     ]
    },
    {
     "ename": "KeyboardInterrupt",
     "evalue": "",
     "output_type": "error",
     "traceback": [
      "\u001b[0;31m---------------------------------------------------------------------------\u001b[0m",
      "\u001b[0;31mKeyboardInterrupt\u001b[0m                         Traceback (most recent call last)",
      "\u001b[0;32m/tmp/ipykernel_8169/3179327902.py\u001b[0m in \u001b[0;36m<module>\u001b[0;34m\u001b[0m\n\u001b[1;32m      4\u001b[0m     \u001b[0;31m# Обучение нейронной сети\u001b[0m\u001b[0;34m\u001b[0m\u001b[0;34m\u001b[0m\u001b[0;34m\u001b[0m\u001b[0m\n\u001b[1;32m      5\u001b[0m     \u001b[0mstart\u001b[0m \u001b[0;34m=\u001b[0m \u001b[0mtime\u001b[0m\u001b[0;34m.\u001b[0m\u001b[0mtime\u001b[0m\u001b[0;34m(\u001b[0m\u001b[0;34m)\u001b[0m\u001b[0;34m\u001b[0m\u001b[0;34m\u001b[0m\u001b[0m\n\u001b[0;32m----> 6\u001b[0;31m     history = model.fit(x_train, y_train, epochs=epochs, batch_size=64,\n\u001b[0m\u001b[1;32m      7\u001b[0m                         verbose=1, validation_data=(x_test, y_test))\n\u001b[1;32m      8\u001b[0m     \u001b[0mprint\u001b[0m\u001b[0;34m(\u001b[0m\u001b[0;34m'Время вычислений:'\u001b[0m\u001b[0;34m,\u001b[0m \u001b[0mtime\u001b[0m\u001b[0;34m.\u001b[0m\u001b[0mtime\u001b[0m\u001b[0;34m(\u001b[0m\u001b[0;34m)\u001b[0m \u001b[0;34m-\u001b[0m \u001b[0mstart\u001b[0m\u001b[0;34m)\u001b[0m\u001b[0;34m\u001b[0m\u001b[0;34m\u001b[0m\u001b[0m\n",
      "\u001b[0;32m/media/maxim/TOSHIBA EXT/prog/5term/graph/lab6/venv/lib/python3.9/site-packages/keras/engine/training.py\u001b[0m in \u001b[0;36mfit\u001b[0;34m(self, x, y, batch_size, epochs, verbose, callbacks, validation_split, validation_data, shuffle, class_weight, sample_weight, initial_epoch, steps_per_epoch, validation_steps, validation_batch_size, validation_freq, max_queue_size, workers, use_multiprocessing)\u001b[0m\n\u001b[1;32m   1182\u001b[0m                 _r=1):\n\u001b[1;32m   1183\u001b[0m               \u001b[0mcallbacks\u001b[0m\u001b[0;34m.\u001b[0m\u001b[0mon_train_batch_begin\u001b[0m\u001b[0;34m(\u001b[0m\u001b[0mstep\u001b[0m\u001b[0;34m)\u001b[0m\u001b[0;34m\u001b[0m\u001b[0;34m\u001b[0m\u001b[0m\n\u001b[0;32m-> 1184\u001b[0;31m               \u001b[0mtmp_logs\u001b[0m \u001b[0;34m=\u001b[0m \u001b[0mself\u001b[0m\u001b[0;34m.\u001b[0m\u001b[0mtrain_function\u001b[0m\u001b[0;34m(\u001b[0m\u001b[0miterator\u001b[0m\u001b[0;34m)\u001b[0m\u001b[0;34m\u001b[0m\u001b[0;34m\u001b[0m\u001b[0m\n\u001b[0m\u001b[1;32m   1185\u001b[0m               \u001b[0;32mif\u001b[0m \u001b[0mdata_handler\u001b[0m\u001b[0;34m.\u001b[0m\u001b[0mshould_sync\u001b[0m\u001b[0;34m:\u001b[0m\u001b[0;34m\u001b[0m\u001b[0;34m\u001b[0m\u001b[0m\n\u001b[1;32m   1186\u001b[0m                 \u001b[0mcontext\u001b[0m\u001b[0;34m.\u001b[0m\u001b[0masync_wait\u001b[0m\u001b[0;34m(\u001b[0m\u001b[0;34m)\u001b[0m\u001b[0;34m\u001b[0m\u001b[0;34m\u001b[0m\u001b[0m\n",
      "\u001b[0;32m/media/maxim/TOSHIBA EXT/prog/5term/graph/lab6/venv/lib/python3.9/site-packages/tensorflow/python/eager/def_function.py\u001b[0m in \u001b[0;36m__call__\u001b[0;34m(self, *args, **kwds)\u001b[0m\n\u001b[1;32m    883\u001b[0m \u001b[0;34m\u001b[0m\u001b[0m\n\u001b[1;32m    884\u001b[0m       \u001b[0;32mwith\u001b[0m \u001b[0mOptionalXlaContext\u001b[0m\u001b[0;34m(\u001b[0m\u001b[0mself\u001b[0m\u001b[0;34m.\u001b[0m\u001b[0m_jit_compile\u001b[0m\u001b[0;34m)\u001b[0m\u001b[0;34m:\u001b[0m\u001b[0;34m\u001b[0m\u001b[0;34m\u001b[0m\u001b[0m\n\u001b[0;32m--> 885\u001b[0;31m         \u001b[0mresult\u001b[0m \u001b[0;34m=\u001b[0m \u001b[0mself\u001b[0m\u001b[0;34m.\u001b[0m\u001b[0m_call\u001b[0m\u001b[0;34m(\u001b[0m\u001b[0;34m*\u001b[0m\u001b[0margs\u001b[0m\u001b[0;34m,\u001b[0m \u001b[0;34m**\u001b[0m\u001b[0mkwds\u001b[0m\u001b[0;34m)\u001b[0m\u001b[0;34m\u001b[0m\u001b[0;34m\u001b[0m\u001b[0m\n\u001b[0m\u001b[1;32m    886\u001b[0m \u001b[0;34m\u001b[0m\u001b[0m\n\u001b[1;32m    887\u001b[0m       \u001b[0mnew_tracing_count\u001b[0m \u001b[0;34m=\u001b[0m \u001b[0mself\u001b[0m\u001b[0;34m.\u001b[0m\u001b[0mexperimental_get_tracing_count\u001b[0m\u001b[0;34m(\u001b[0m\u001b[0;34m)\u001b[0m\u001b[0;34m\u001b[0m\u001b[0;34m\u001b[0m\u001b[0m\n",
      "\u001b[0;32m/media/maxim/TOSHIBA EXT/prog/5term/graph/lab6/venv/lib/python3.9/site-packages/tensorflow/python/eager/def_function.py\u001b[0m in \u001b[0;36m_call\u001b[0;34m(self, *args, **kwds)\u001b[0m\n\u001b[1;32m    915\u001b[0m       \u001b[0;31m# In this case we have created variables on the first call, so we run the\u001b[0m\u001b[0;34m\u001b[0m\u001b[0;34m\u001b[0m\u001b[0;34m\u001b[0m\u001b[0m\n\u001b[1;32m    916\u001b[0m       \u001b[0;31m# defunned version which is guaranteed to never create variables.\u001b[0m\u001b[0;34m\u001b[0m\u001b[0;34m\u001b[0m\u001b[0;34m\u001b[0m\u001b[0m\n\u001b[0;32m--> 917\u001b[0;31m       \u001b[0;32mreturn\u001b[0m \u001b[0mself\u001b[0m\u001b[0;34m.\u001b[0m\u001b[0m_stateless_fn\u001b[0m\u001b[0;34m(\u001b[0m\u001b[0;34m*\u001b[0m\u001b[0margs\u001b[0m\u001b[0;34m,\u001b[0m \u001b[0;34m**\u001b[0m\u001b[0mkwds\u001b[0m\u001b[0;34m)\u001b[0m  \u001b[0;31m# pylint: disable=not-callable\u001b[0m\u001b[0;34m\u001b[0m\u001b[0;34m\u001b[0m\u001b[0m\n\u001b[0m\u001b[1;32m    918\u001b[0m     \u001b[0;32melif\u001b[0m \u001b[0mself\u001b[0m\u001b[0;34m.\u001b[0m\u001b[0m_stateful_fn\u001b[0m \u001b[0;32mis\u001b[0m \u001b[0;32mnot\u001b[0m \u001b[0;32mNone\u001b[0m\u001b[0;34m:\u001b[0m\u001b[0;34m\u001b[0m\u001b[0;34m\u001b[0m\u001b[0m\n\u001b[1;32m    919\u001b[0m       \u001b[0;31m# Release the lock early so that multiple threads can perform the call\u001b[0m\u001b[0;34m\u001b[0m\u001b[0;34m\u001b[0m\u001b[0;34m\u001b[0m\u001b[0m\n",
      "\u001b[0;32m/media/maxim/TOSHIBA EXT/prog/5term/graph/lab6/venv/lib/python3.9/site-packages/tensorflow/python/eager/function.py\u001b[0m in \u001b[0;36m__call__\u001b[0;34m(self, *args, **kwargs)\u001b[0m\n\u001b[1;32m   3037\u001b[0m       (graph_function,\n\u001b[1;32m   3038\u001b[0m        filtered_flat_args) = self._maybe_define_function(args, kwargs)\n\u001b[0;32m-> 3039\u001b[0;31m     return graph_function._call_flat(\n\u001b[0m\u001b[1;32m   3040\u001b[0m         filtered_flat_args, captured_inputs=graph_function.captured_inputs)  # pylint: disable=protected-access\n\u001b[1;32m   3041\u001b[0m \u001b[0;34m\u001b[0m\u001b[0m\n",
      "\u001b[0;32m/media/maxim/TOSHIBA EXT/prog/5term/graph/lab6/venv/lib/python3.9/site-packages/tensorflow/python/eager/function.py\u001b[0m in \u001b[0;36m_call_flat\u001b[0;34m(self, args, captured_inputs, cancellation_manager)\u001b[0m\n\u001b[1;32m   1961\u001b[0m         and executing_eagerly):\n\u001b[1;32m   1962\u001b[0m       \u001b[0;31m# No tape is watching; skip to running the function.\u001b[0m\u001b[0;34m\u001b[0m\u001b[0;34m\u001b[0m\u001b[0;34m\u001b[0m\u001b[0m\n\u001b[0;32m-> 1963\u001b[0;31m       return self._build_call_outputs(self._inference_function.call(\n\u001b[0m\u001b[1;32m   1964\u001b[0m           ctx, args, cancellation_manager=cancellation_manager))\n\u001b[1;32m   1965\u001b[0m     forward_backward = self._select_forward_and_backward_functions(\n",
      "\u001b[0;32m/media/maxim/TOSHIBA EXT/prog/5term/graph/lab6/venv/lib/python3.9/site-packages/tensorflow/python/eager/function.py\u001b[0m in \u001b[0;36mcall\u001b[0;34m(self, ctx, args, cancellation_manager)\u001b[0m\n\u001b[1;32m    589\u001b[0m       \u001b[0;32mwith\u001b[0m \u001b[0m_InterpolateFunctionError\u001b[0m\u001b[0;34m(\u001b[0m\u001b[0mself\u001b[0m\u001b[0;34m)\u001b[0m\u001b[0;34m:\u001b[0m\u001b[0;34m\u001b[0m\u001b[0;34m\u001b[0m\u001b[0m\n\u001b[1;32m    590\u001b[0m         \u001b[0;32mif\u001b[0m \u001b[0mcancellation_manager\u001b[0m \u001b[0;32mis\u001b[0m \u001b[0;32mNone\u001b[0m\u001b[0;34m:\u001b[0m\u001b[0;34m\u001b[0m\u001b[0;34m\u001b[0m\u001b[0m\n\u001b[0;32m--> 591\u001b[0;31m           outputs = execute.execute(\n\u001b[0m\u001b[1;32m    592\u001b[0m               \u001b[0mstr\u001b[0m\u001b[0;34m(\u001b[0m\u001b[0mself\u001b[0m\u001b[0;34m.\u001b[0m\u001b[0msignature\u001b[0m\u001b[0;34m.\u001b[0m\u001b[0mname\u001b[0m\u001b[0;34m)\u001b[0m\u001b[0;34m,\u001b[0m\u001b[0;34m\u001b[0m\u001b[0;34m\u001b[0m\u001b[0m\n\u001b[1;32m    593\u001b[0m               \u001b[0mnum_outputs\u001b[0m\u001b[0;34m=\u001b[0m\u001b[0mself\u001b[0m\u001b[0;34m.\u001b[0m\u001b[0m_num_outputs\u001b[0m\u001b[0;34m,\u001b[0m\u001b[0;34m\u001b[0m\u001b[0;34m\u001b[0m\u001b[0m\n",
      "\u001b[0;32m/media/maxim/TOSHIBA EXT/prog/5term/graph/lab6/venv/lib/python3.9/site-packages/tensorflow/python/eager/execute.py\u001b[0m in \u001b[0;36mquick_execute\u001b[0;34m(op_name, num_outputs, inputs, attrs, ctx, name)\u001b[0m\n\u001b[1;32m     57\u001b[0m   \u001b[0;32mtry\u001b[0m\u001b[0;34m:\u001b[0m\u001b[0;34m\u001b[0m\u001b[0;34m\u001b[0m\u001b[0m\n\u001b[1;32m     58\u001b[0m     \u001b[0mctx\u001b[0m\u001b[0;34m.\u001b[0m\u001b[0mensure_initialized\u001b[0m\u001b[0;34m(\u001b[0m\u001b[0;34m)\u001b[0m\u001b[0;34m\u001b[0m\u001b[0;34m\u001b[0m\u001b[0m\n\u001b[0;32m---> 59\u001b[0;31m     tensors = pywrap_tfe.TFE_Py_Execute(ctx._handle, device_name, op_name,\n\u001b[0m\u001b[1;32m     60\u001b[0m                                         inputs, attrs, num_outputs)\n\u001b[1;32m     61\u001b[0m   \u001b[0;32mexcept\u001b[0m \u001b[0mcore\u001b[0m\u001b[0;34m.\u001b[0m\u001b[0m_NotOkStatusException\u001b[0m \u001b[0;32mas\u001b[0m \u001b[0me\u001b[0m\u001b[0;34m:\u001b[0m\u001b[0;34m\u001b[0m\u001b[0;34m\u001b[0m\u001b[0m\n",
      "\u001b[0;31mKeyboardInterrupt\u001b[0m: "
     ]
    }
   ],
   "source": [
    "if refit:\n",
    "    model.compile(optimizer='Adam', loss=loss_func, metrics=['accuracy'])\n",
    "    # \n",
    "    # Обучение нейронной сети \n",
    "    start = time.time()\n",
    "    history = model.fit(x_train, y_train, epochs=epochs, batch_size=64,\n",
    "                        verbose=1, validation_data=(x_test, y_test))\n",
    "    print('Время вычислений:', time.time() - start) \n",
    "    model.save(fn_model)\n",
    "    print('Модель сохранена в файле', fn_model)\n",
    "    # Запись истории обучения в текстовые файлы \n",
    "    history = history.history\n",
    "    ##for itm in history.items(): print(itm) \n",
    "    with open(fn_loss, 'w') as output:\n",
    "        for val in history['loss']: output.write(str(val) + '\\n')\n",
    "    with open(fn_acc, 'w') as output:\n",
    "        for val in history['accuracy']: output.write(str(val) + '\\n')\n",
    "    with open(fn_val_loss, 'w') as output:\n",
    "        for val in history['val_loss']: output.write(str(val) + '\\n')\n",
    "    with open(fn_val_acc, 'w') as output:\n",
    "        for val in history['val_accuracy']: output.write(str(val) + '\\n')\n",
    "    # Вывод графиков обучения \n",
    "    plt.figure(figsize=(9, 4))\n",
    "    plt.subplots_adjust(wspace=0.5)\n",
    "    one_plot(1, 'Потери', history['loss'], history['val_loss'])\n",
    "    one_plot(2, 'Точность', history['accuracy'], history['val_accuracy'])\n",
    "    plt.suptitle('Потери и точность')\n",
    "    plt.show()\n",
    " "
   ]
  },
  {
   "cell_type": "code",
   "execution_count": 2,
   "id": "4be10ad4-9298-49b2-a13d-141cbaaf363f",
   "metadata": {},
   "outputs": [
    {
     "ename": "NameError",
     "evalue": "name 'pred' is not defined",
     "output_type": "error",
     "traceback": [
      "\u001b[0;31m---------------------------------------------------------------------------\u001b[0m",
      "\u001b[0;31mNameError\u001b[0m                                 Traceback (most recent call last)",
      "\u001b[0;32m/tmp/ipykernel_49715/1027186844.py\u001b[0m in \u001b[0;36m<module>\u001b[0;34m\u001b[0m\n\u001b[0;32m----> 1\u001b[0;31m \u001b[0;32mif\u001b[0m \u001b[0mpred\u001b[0m\u001b[0;34m:\u001b[0m\u001b[0;34m\u001b[0m\u001b[0;34m\u001b[0m\u001b[0m\n\u001b[0m\u001b[1;32m      2\u001b[0m     \u001b[0mtest_compile\u001b[0m\u001b[0;34m(\u001b[0m\u001b[0;34m)\u001b[0m\u001b[0;34m\u001b[0m\u001b[0;34m\u001b[0m\u001b[0m\n",
      "\u001b[0;31mNameError\u001b[0m: name 'pred' is not defined"
     ]
    }
   ],
   "source": [
    "if pred:\n",
    "    test_compile()    "
   ]
  },
  {
   "cell_type": "code",
   "execution_count": null,
   "id": "8502c144-6a74-4ce0-b699-998585e2bd89",
   "metadata": {},
   "outputs": [],
   "source": [
    "print(x_test.shape)\n",
    "n = np.random.randint(1000)\n",
    "x = np.expand_dims(x_test[n], axis=0)\n",
    "res = model.predict(x)\n",
    "print( res )\n",
    "mx = np.argmax(res)\n",
    "\n",
    "plt.title(ch(mx))\n",
    "plt.imshow(np.reshape(x_test[n], (img_rows, img_cols)), cmap=plt.cm.binary)\n",
    "plt.show()"
   ]
  }
 ],
 "metadata": {
  "kernelspec": {
   "display_name": "Python 3 (ipykernel)",
   "language": "python",
   "name": "python3"
  },
  "language_info": {
   "codemirror_mode": {
    "name": "ipython",
    "version": 3
   },
   "file_extension": ".py",
   "mimetype": "text/x-python",
   "name": "python",
   "nbconvert_exporter": "python",
   "pygments_lexer": "ipython3",
   "version": "3.9.5"
  }
 },
 "nbformat": 4,
 "nbformat_minor": 5
}
