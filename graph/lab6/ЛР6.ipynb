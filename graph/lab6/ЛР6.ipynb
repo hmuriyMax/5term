{
 "cells": [
  {
   "cell_type": "code",
   "execution_count": 1,
   "id": "775f2c6b-45b0-47f0-a929-daee92acc1a5",
   "metadata": {},
   "outputs": [
    {
     "name": "stderr",
     "output_type": "stream",
     "text": [
      "2021-11-05 13:53:19.147430: W tensorflow/stream_executor/platform/default/dso_loader.cc:64] Could not load dynamic library 'libcudart.so.11.0'; dlerror: libcudart.so.11.0: cannot open shared object file: No such file or directory\n",
      "2021-11-05 13:53:19.147512: I tensorflow/stream_executor/cuda/cudart_stub.cc:29] Ignore above cudart dlerror if you do not have a GPU set up on your machine.\n"
     ]
    }
   ],
   "source": [
    "from sys import exit \n",
    "import numpy as np \n",
    "import matplotlib.pyplot as plt \n",
    "import keras, tensorflow as tf \n",
    "from keras.models import Model \n",
    "from keras.layers import Input, Dense, Flatten, Reshape \n",
    "from keras.layers import Dropout, BatchNormalization # Activation "
   ]
  },
  {
   "cell_type": "code",
   "execution_count": 2,
   "id": "61a9176b-56e4-4dbe-aff3-42ccfce8b72a",
   "metadata": {},
   "outputs": [],
   "source": [
    "img_rows = img_cols = 28 \n",
    "show_k = not True # False True \n",
    "pred = not True \n",
    "mnist = True\n",
    "pathToData = 'mnist/' if mnist else 'emnist/' \n",
    "num_classes = 10 if mnist else 26 \n",
    "epochs = 20 \n",
    "fn_model = pathToData + 'lk3.h5'"
   ]
  },
  {
   "cell_type": "code",
   "execution_count": 3,
   "id": "23f89223-0a6d-4a1b-9943-ea92df30b3f4",
   "metadata": {},
   "outputs": [],
   "source": [
    "pathToHistory = 'mnist/' if mnist else 'emnist/' \n",
    "suff = '.txt' "
   ]
  },
  {
   "cell_type": "code",
   "execution_count": 4,
   "id": "c23cf568-bbb7-49a1-bccd-6eb946b1654c",
   "metadata": {},
   "outputs": [],
   "source": [
    "fn_loss = pathToHistory + 'loss_' + suff \n",
    "fn_acc = pathToHistory + 'acc_' + suff \n",
    "fn_val_loss = pathToHistory + 'val_loss_' + suff \n",
    "fn_val_acc = pathToHistory + 'val_acc_' + suff"
   ]
  },
  {
   "cell_type": "code",
   "execution_count": 5,
   "id": "7027b759-0314-4336-8937-15a76135a098",
   "metadata": {},
   "outputs": [],
   "source": [
    "def show_x(x, img_rows, img_cols, N): \n",
    "    n = int(np.sqrt(N)) \n",
    "    print(x[0].shape, len(x), n) \n",
    "    for i, j  in enumerate(np.random.randint(1000, size = n*n)): \n",
    "        plt.subplot(n, n, i + 1) \n",
    "        # Убираем 3-е измерение \n",
    "        plt.imshow(x[j].reshape(img_rows, img_cols), cmap = 'gray') \n",
    "        plt.axis('off') \n",
    "    plt.show() "
   ]
  },
  {
   "cell_type": "code",
   "execution_count": 6,
   "id": "e2f30925-b985-4ff4-b52f-8277fe56dd8c",
   "metadata": {},
   "outputs": [],
   "source": [
    "def one_plot(n, y_lb, loss_acc, val_loss_acc): \n",
    "    plt.subplot(1, 2, n) \n",
    "    if n == 1: \n",
    "        lb, lb2 = 'loss', 'val_loss' \n",
    "        yMin = 0 \n",
    "        yMax = 1.05 * max(max(loss_acc), max(val_loss_acc)) \n",
    "    else: \n",
    "        lb, lb2 = 'acc', 'val_acc' \n",
    "        yMin = min(min(loss_acc), min(val_loss_acc)) \n",
    "        yMax = 1.0 \n",
    "    plt.plot(loss_acc, color = 'r', label = lb, linestyle = '--') \n",
    "    plt.plot(val_loss_acc, color = 'g', label = lb2) \n",
    "    plt.ylabel(y_lb) \n",
    "    plt.xlabel('Эпоха') \n",
    "    plt.ylim([0.95 * yMin, yMax]) \n",
    "    plt.legend() \n",
    "# \n",
    "def loadBinData(pathToData, img_rows, img_cols): \n",
    "    print('Загрузка данных из двоичных файлов...') \n",
    "    with open(pathToData + 'imagesTrain.bin', 'rb') as read_binary: \n",
    "        x_train = np.fromfile(read_binary, dtype = np.uint8) \n",
    "    with open(pathToData + 'labelsTrain.bin', 'rb') as read_binary: \n",
    "        y_train = np.fromfile(read_binary, dtype = np.uint8) \n",
    "    with open(pathToData + 'imagesTest.bin', 'rb') as read_binary: \n",
    "        x_test = np.fromfile(read_binary, dtype = np.uint8) \n",
    "    with open(pathToData + 'labelsTest.bin', 'rb') as read_binary: \n",
    "        y_test = np.fromfile(read_binary, dtype = np.uint8) \n",
    "    # Преобразование целочисленных данных в float32 и нормализация; данные лежат в диапазоне [0.0, 1.0] \n",
    "    x_train = np.array(x_train, dtype = 'float32') / 255 \n",
    "    x_test = np.array(x_test, dtype = 'float32') / 255 \n",
    "    print(x_test.shape) \n",
    "    x_train_shape_0 = int(x_train.shape[0] / (img_rows * img_cols)) \n",
    "    x_test_shape_0 = int(x_test.shape[0] / (img_rows * img_cols)) \n",
    "    x_train = x_train.reshape(x_train_shape_0, img_rows, img_cols, 1) # 1 - оттенок серого цвета \n",
    "    x_test = x_test.reshape(x_test_shape_0, img_rows, img_cols, 1) \n",
    "    # Преобразование в категориальное представление: метки - числа из диапазона [0, 9] в двоичный вектор размера num_classes \n",
    "    # Так, в случае MNIST метка 5 (соответствует классу 6) будет преобразована в вектор [0. 0. 0. 0. 0. 0. 1. 0. 0. 0.] \n",
    "    #print(y_train[0]) # (MNIST) Напечатает: 5 \n",
    "    print('Преобразуем массивы меток в категориальное представление') \n",
    "    y_train = tf.keras.utils.to_categorical(y_train, num_classes) \n",
    "    y_test = tf.keras.utils.to_categorical(y_test, num_classes) \n",
    "    #print(y_train[0]) # (MNIST) Напечатает: [0. 0. 0. 0. 0. 1. 0. 0. 0. 0.] \n",
    "    return x_train, y_train, x_test, y_test "
   ]
  },
  {
   "cell_type": "code",
   "execution_count": 7,
   "id": "e8114a7c-f724-4aff-95e1-1ba9359676cc",
   "metadata": {},
   "outputs": [
    {
     "name": "stdout",
     "output_type": "stream",
     "text": [
      "Загрузка данных из двоичных файлов...\n"
     ]
    },
    {
     "ename": "FileNotFoundError",
     "evalue": "[Errno 2] No such file or directory: 'mnist/imagesTrain.bin'",
     "output_type": "error",
     "traceback": [
      "\u001b[0;31m---------------------------------------------------------------------------\u001b[0m",
      "\u001b[0;31mFileNotFoundError\u001b[0m                         Traceback (most recent call last)",
      "\u001b[0;32m/tmp/ipykernel_6654/3715097606.py\u001b[0m in \u001b[0;36m<module>\u001b[0;34m\u001b[0m\n\u001b[0;32m----> 1\u001b[0;31m \u001b[0mx_train\u001b[0m\u001b[0;34m,\u001b[0m \u001b[0my_train\u001b[0m\u001b[0;34m,\u001b[0m \u001b[0mx_test\u001b[0m\u001b[0;34m,\u001b[0m \u001b[0my_test\u001b[0m \u001b[0;34m=\u001b[0m \u001b[0mloadBinData\u001b[0m\u001b[0;34m(\u001b[0m\u001b[0mpathToData\u001b[0m\u001b[0;34m,\u001b[0m \u001b[0mimg_rows\u001b[0m\u001b[0;34m,\u001b[0m \u001b[0mimg_cols\u001b[0m\u001b[0;34m)\u001b[0m\u001b[0;34m\u001b[0m\u001b[0;34m\u001b[0m\u001b[0m\n\u001b[0m\u001b[1;32m      2\u001b[0m \u001b[0;32mif\u001b[0m \u001b[0mshow_k\u001b[0m\u001b[0;34m:\u001b[0m\u001b[0;34m\u001b[0m\u001b[0;34m\u001b[0m\u001b[0m\n\u001b[1;32m      3\u001b[0m     \u001b[0mshow_x\u001b[0m\u001b[0;34m(\u001b[0m\u001b[0mx_test\u001b[0m\u001b[0;34m,\u001b[0m \u001b[0mimg_rows\u001b[0m\u001b[0;34m,\u001b[0m \u001b[0mimg_cols\u001b[0m\u001b[0;34m,\u001b[0m \u001b[0;36m16\u001b[0m\u001b[0;34m)\u001b[0m\u001b[0;34m\u001b[0m\u001b[0;34m\u001b[0m\u001b[0m\n\u001b[1;32m      4\u001b[0m     \u001b[0mexit\u001b[0m\u001b[0;34m(\u001b[0m\u001b[0;34m)\u001b[0m\u001b[0;34m\u001b[0m\u001b[0;34m\u001b[0m\u001b[0m\n\u001b[1;32m      5\u001b[0m \u001b[0;32mif\u001b[0m \u001b[0mpred\u001b[0m\u001b[0;34m:\u001b[0m\u001b[0;34m\u001b[0m\u001b[0;34m\u001b[0m\u001b[0m\n",
      "\u001b[0;32m/tmp/ipykernel_6654/2824433471.py\u001b[0m in \u001b[0;36mloadBinData\u001b[0;34m(pathToData, img_rows, img_cols)\u001b[0m\n\u001b[1;32m     18\u001b[0m \u001b[0;32mdef\u001b[0m \u001b[0mloadBinData\u001b[0m\u001b[0;34m(\u001b[0m\u001b[0mpathToData\u001b[0m\u001b[0;34m,\u001b[0m \u001b[0mimg_rows\u001b[0m\u001b[0;34m,\u001b[0m \u001b[0mimg_cols\u001b[0m\u001b[0;34m)\u001b[0m\u001b[0;34m:\u001b[0m\u001b[0;34m\u001b[0m\u001b[0;34m\u001b[0m\u001b[0m\n\u001b[1;32m     19\u001b[0m     \u001b[0mprint\u001b[0m\u001b[0;34m(\u001b[0m\u001b[0;34m'Загрузка данных из двоичных файлов...'\u001b[0m\u001b[0;34m)\u001b[0m\u001b[0;34m\u001b[0m\u001b[0;34m\u001b[0m\u001b[0m\n\u001b[0;32m---> 20\u001b[0;31m     \u001b[0;32mwith\u001b[0m \u001b[0mopen\u001b[0m\u001b[0;34m(\u001b[0m\u001b[0mpathToData\u001b[0m \u001b[0;34m+\u001b[0m \u001b[0;34m'imagesTrain.bin'\u001b[0m\u001b[0;34m,\u001b[0m \u001b[0;34m'rb'\u001b[0m\u001b[0;34m)\u001b[0m \u001b[0;32mas\u001b[0m \u001b[0mread_binary\u001b[0m\u001b[0;34m:\u001b[0m\u001b[0;34m\u001b[0m\u001b[0;34m\u001b[0m\u001b[0m\n\u001b[0m\u001b[1;32m     21\u001b[0m         \u001b[0mx_train\u001b[0m \u001b[0;34m=\u001b[0m \u001b[0mnp\u001b[0m\u001b[0;34m.\u001b[0m\u001b[0mfromfile\u001b[0m\u001b[0;34m(\u001b[0m\u001b[0mread_binary\u001b[0m\u001b[0;34m,\u001b[0m \u001b[0mdtype\u001b[0m \u001b[0;34m=\u001b[0m \u001b[0mnp\u001b[0m\u001b[0;34m.\u001b[0m\u001b[0muint8\u001b[0m\u001b[0;34m)\u001b[0m\u001b[0;34m\u001b[0m\u001b[0;34m\u001b[0m\u001b[0m\n\u001b[1;32m     22\u001b[0m     \u001b[0;32mwith\u001b[0m \u001b[0mopen\u001b[0m\u001b[0;34m(\u001b[0m\u001b[0mpathToData\u001b[0m \u001b[0;34m+\u001b[0m \u001b[0;34m'labelsTrain.bin'\u001b[0m\u001b[0;34m,\u001b[0m \u001b[0;34m'rb'\u001b[0m\u001b[0;34m)\u001b[0m \u001b[0;32mas\u001b[0m \u001b[0mread_binary\u001b[0m\u001b[0;34m:\u001b[0m\u001b[0;34m\u001b[0m\u001b[0;34m\u001b[0m\u001b[0m\n",
      "\u001b[0;31mFileNotFoundError\u001b[0m: [Errno 2] No such file or directory: 'mnist/imagesTrain.bin'"
     ]
    }
   ],
   "source": [
    "x_train, y_train, x_test, y_test = loadBinData(pathToData, img_rows, img_cols) \n",
    "if show_k: \n",
    "    show_x(x_test, img_rows, img_cols, 16) \n",
    "    exit() \n",
    "if pred: \n",
    "    from keras.models import load_model \n",
    "    model = load_model(fn_model) \n",
    "    # Оценка модели НС на тестовых данных \n",
    "    score = model.evaluate(x_test, y_test, verbose = 0) \n",
    "    # Вывод потерь и точности \n",
    "    print('Потери при тестировании:', round(score[0], 4)) \n",
    "    print('Точность при тестировании: {}{}'.format(score[1] * 100, '%')) \n",
    "    # Прогноз \n",
    "    y_pred = model.predict(x_test) \n",
    "    # print(y_pred[0]) \n",
    "    # print(y_test[0]) \n",
    "    # [6.8e-6 1.5e-10 7.6e-6 1.5e-3 7.0e-9 6.2e-5 2.2e-11 9.9e-1 3.0e-7 5.9e-6] \n",
    "    # [0.     0.      0.     0.     0.     0.     0.      1.     0.     0.] \n",
    "    # Заносим в массив predicted_classes метки классов, предсказанных моделью НС \n",
    "    predicted_classes = np.array([np.argmax(m) for m in y_pred]) \n",
    "    true_classes = np.array([np.argmax(m) for m in y_test]) \n",
    "    n_test = len(y_test) \n",
    "    # Число верно классифицированных изображений \n",
    "    true_classified = np.sum(predicted_classes == true_classes) \n",
    "    # Число ошибочно классифицированных изображений \n",
    "    false_classified = n_test - true_classified \n",
    "    acc = 100.0 * true_classified / n_test \n",
    "    print('Точность: {}{}'.format( acc, '%')) \n",
    "    print('Неверно классифицированно:', false_classified) \n",
    "    m, m_max = 0, 15 \n",
    "    lst_false = [] \n",
    "    print('Индекс | Прогноз | Правильный класс') \n",
    "    for i in range(n_test): \n",
    "        cls_pred = predicted_classes[i] # Предсказанное моделью имя класса \n",
    "        cls_true = true_classes[i] # Истинное имя класса \n",
    "        if cls_pred != cls_true: \n",
    "            m += 1 \n",
    "            lst_false.append([i, cls_pred, cls_true]) \n",
    "            if (m == min(m_max, false_classified)): break \n",
    "            print('  {}   |   {}    |    {}'.format(i, cls_pred, cls_true)) \n",
    "    plt.figure('Ошибки классификации') \n",
    "    for k in range(len(lst_false)): \n",
    "        plt.subplot(3, 5, k + 1) \n",
    "        lst = lst_false[k] \n",
    "        plt.imshow(x_test[lst[0]].reshape(img_rows, img_cols), cmap = 'gray') \n",
    "        plt.title('{}/{}'.format(lst[1], lst[2])) \n",
    "        plt.axis('off') \n",
    "    plt.show() \n",
    "    exit() \n",
    "# \n",
    "# Определяем форму входных данных \n",
    "input_shape = (img_rows, img_cols, 1) \n",
    "# \n",
    "# Создание модели нейронной сети \n",
    "inp = Input(shape = input_shape) # Входной слой \n",
    "x = inp \n",
    "x = Flatten()(x) # Преобразование 2D в 1D \n",
    "x = Dense(units = 32, activation = 'relu')(x) \n",
    "output = Dense(num_classes, activation = 'softmax')(x) \n",
    "model = Model(inputs = inp, outputs = output) \n",
    "model.summary() \n",
    "model.compile(optimizer = 'Adam', loss = 'mse', metrics = ['accuracy']) \n",
    "# \n",
    "# Обучение нейронной сети \n",
    "history = model.fit(x_train, y_train, batch_size = 128, epochs = epochs, \n",
    "                        verbose = 2, validation_data = (x_test, y_test)) \n",
    "print('Модель сохранена в файле', fn_model) \n",
    "model.save(fn_model) \n",
    "# Запись истории обучения в текстовые файлы \n",
    "history = history.history \n",
    "##for itm in history.items(): print(itm) \n",
    "with open(fn_loss, 'w') as output: \n",
    "    for val in history['loss']: output.write(str(val) + '\\n') \n",
    "with open(fn_acc, 'w') as output: \n",
    "    for val in history['accuracy']: output.write(str(val) + '\\n') \n",
    "with open(fn_val_loss, 'w') as output: \n",
    "    for val in history['val_loss']: output.write(str(val) + '\\n') \n",
    "with open(fn_val_acc, 'w') as output: \n",
    "    for val in history['val_accuracy']: output.write(str(val) + '\\n') \n",
    "# Вывод графиков обучения \n",
    "plt.figure(figsize = (9, 4)) \n",
    "plt.subplots_adjust(wspace = 0.5) \n",
    "one_plot(1, 'Потери', history['loss'], history['val_loss']) \n",
    "one_plot(2, 'Точность', history['accuracy'], history['val_accuracy']) \n",
    "plt.suptitle('Потери и точность') \n",
    "plt.show() "
   ]
  },
  {
   "cell_type": "code",
   "execution_count": null,
   "id": "0c17f697-af03-4874-b188-ebe2b751cfbb",
   "metadata": {},
   "outputs": [],
   "source": []
  }
 ],
 "metadata": {
  "kernelspec": {
   "display_name": "Python 3 (ipykernel)",
   "language": "python",
   "name": "python3"
  },
  "language_info": {
   "codemirror_mode": {
    "name": "ipython",
    "version": 3
   },
   "file_extension": ".py",
   "mimetype": "text/x-python",
   "name": "python",
   "nbconvert_exporter": "python",
   "pygments_lexer": "ipython3",
   "version": "3.9.5"
  }
 },
 "nbformat": 4,
 "nbformat_minor": 5
}
