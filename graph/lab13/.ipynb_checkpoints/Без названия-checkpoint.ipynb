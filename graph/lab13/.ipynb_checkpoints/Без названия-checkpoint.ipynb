{
 "cells": [
  {
   "cell_type": "code",
   "execution_count": 1,
   "id": "8d632c29-793f-4f63-a4ec-d707a8ad855a",
   "metadata": {},
   "outputs": [
    {
     "name": "stderr",
     "output_type": "stream",
     "text": [
      "2021-12-10 18:50:47.138775: W tensorflow/stream_executor/platform/default/dso_loader.cc:64] Could not load dynamic library 'libcudart.so.11.0'; dlerror: libcudart.so.11.0: cannot open shared object file: No such file or directory\n",
      "2021-12-10 18:50:47.138850: I tensorflow/stream_executor/cuda/cudart_stub.cc:29] Ignore above cudart dlerror if you do not have a GPU set up on your machine.\n"
     ]
    }
   ],
   "source": [
    "import time \n",
    "import matplotlib.pyplot as plt\n",
    "import numpy as np\n",
    "import tensorflow as tf\n",
    "from tensorflow import keras\n",
    "from keras.layers import Input, Dense, LeakyReLU, Dropout\n",
    "from keras.models import Model"
   ]
  },
  {
   "cell_type": "code",
   "execution_count": 2,
   "id": "ac271765-bd8d-4635-89e3-358497a6fadf",
   "metadata": {},
   "outputs": [],
   "source": [
    "from tensorflow.keras.datasets import mnist\n",
    "(x_trn, y_trn), (x_tst, y_tst) = mnist.load_data()\n",
    "x_trn = x_trn / 255\n",
    "x_tst = x_tst / 255\n",
    "len_tst = len(y_tst)\n",
    "x_trn = x_trn.reshape(len(y_trn), 784)\n",
    "x_tst = x_tst.reshape(len_tst, 784)"
   ]
  },
  {
   "cell_type": "code",
   "execution_count": 3,
   "id": "a70412a3-c6a2-4907-a7ce-77def5615d89",
   "metadata": {},
   "outputs": [
    {
     "data": {
      "image/png": "[encoded data removed]",
      "text/plain": [
       "<Figure size 144x144 with 1 Axes>"
      ]
     },
     "metadata": {
      "needs_background": "light"
     },
     "output_type": "display_data"
    }
   ],
   "source": [
    "# Случайное изображение элемента обучающего множества\n",
    "i = np.random.randint(len(y_trn))\n",
    "img = x_trn[i].reshape(28, 28)\n",
    "def one_plt(img):\n",
    "    plt.figure(figsize = (2, 2))\n",
    "    plt.imshow(img, cmap = 'gray')\n",
    "    plt.axis('off')\n",
    "    plt.show()\n",
    "one_plt(img)"
   ]
  },
  {
   "cell_type": "code",
   "execution_count": 4,
   "id": "f04bb367-04fa-480b-9713-334259a07017",
   "metadata": {},
   "outputs": [
    {
     "name": "stdout",
     "output_type": "stream",
     "text": [
      "Model: \"model\"\n",
      "_________________________________________________________________\n",
      " Layer (type)                Output Shape              Param #   \n",
      "=================================================================\n",
      " input_1 (InputLayer)        [(None, 784)]             0         \n",
      "                                                                 \n",
      " dense (Dense)               (None, 512)               401920    \n",
      "                                                                 \n",
      " leaky_re_lu (LeakyReLU)     (None, 512)               0         \n",
      "                                                                 \n",
      " dropout (Dropout)           (None, 512)               0         \n",
      "                                                                 \n",
      " dense_1 (Dense)             (None, 256)               131328    \n",
      "                                                                 \n",
      " leaky_re_lu_1 (LeakyReLU)   (None, 256)               0         \n",
      "                                                                 \n",
      " dropout_1 (Dropout)         (None, 256)               0         \n",
      "                                                                 \n",
      " dense_2 (Dense)             (None, 128)               32896     \n",
      "                                                                 \n",
      " leaky_re_lu_2 (LeakyReLU)   (None, 128)               0         \n",
      "                                                                 \n",
      " dropout_2 (Dropout)         (None, 128)               0         \n",
      "                                                                 \n",
      " dense_3 (Dense)             (None, 64)                8256      \n",
      "                                                                 \n",
      " leaky_re_lu_3 (LeakyReLU)   (None, 64)                0         \n",
      "                                                                 \n",
      " dropout_3 (Dropout)         (None, 64)                0         \n",
      "                                                                 \n",
      " dense_4 (Dense)             (None, 32)                2080      \n",
      "                                                                 \n",
      " leaky_re_lu_4 (LeakyReLU)   (None, 32)                0         \n",
      "                                                                 \n",
      " dense_5 (Dense)             (None, 64)                2112      \n",
      "                                                                 \n",
      " leaky_re_lu_5 (LeakyReLU)   (None, 64)                0         \n",
      "                                                                 \n",
      " dropout_4 (Dropout)         (None, 64)                0         \n",
      "                                                                 \n",
      " dense_6 (Dense)             (None, 128)               8320      \n",
      "                                                                 \n",
      " leaky_re_lu_6 (LeakyReLU)   (None, 128)               0         \n",
      "                                                                 \n",
      " dropout_5 (Dropout)         (None, 128)               0         \n",
      "                                                                 \n",
      " dense_7 (Dense)             (None, 256)               33024     \n",
      "                                                                 \n",
      " leaky_re_lu_7 (LeakyReLU)   (None, 256)               0         \n",
      "                                                                 \n",
      " dropout_6 (Dropout)         (None, 256)               0         \n",
      "                                                                 \n",
      " dense_8 (Dense)             (None, 512)               131584    \n",
      "                                                                 \n",
      " leaky_re_lu_8 (LeakyReLU)   (None, 512)               0         \n",
      "                                                                 \n",
      " dropout_7 (Dropout)         (None, 512)               0         \n",
      "                                                                 \n",
      " dense_9 (Dense)             (None, 784)               402192    \n",
      "                                                                 \n",
      "=================================================================\n",
      "Total params: 1,153,712\n",
      "Trainable params: 1,153,712\n",
      "Non-trainable params: 0\n",
      "_________________________________________________________________\n",
      "None\n"
     ]
    },
    {
     "name": "stderr",
     "output_type": "stream",
     "text": [
      "2021-12-10 18:50:53.288690: I tensorflow/stream_executor/cuda/cuda_gpu_executor.cc:939] successful NUMA node read from SysFS had negative value (-1), but there must be at least one NUMA node, so returning NUMA node zero\n",
      "2021-12-10 18:50:53.289211: W tensorflow/stream_executor/platform/default/dso_loader.cc:64] Could not load dynamic library 'libcudart.so.11.0'; dlerror: libcudart.so.11.0: cannot open shared object file: No such file or directory\n",
      "2021-12-10 18:50:53.289318: W tensorflow/stream_executor/platform/default/dso_loader.cc:64] Could not load dynamic library 'libcublas.so.11'; dlerror: libcublas.so.11: cannot open shared object file: No such file or directory\n",
      "2021-12-10 18:50:53.289406: W tensorflow/stream_executor/platform/default/dso_loader.cc:64] Could not load dynamic library 'libcublasLt.so.11'; dlerror: libcublasLt.so.11: cannot open shared object file: No such file or directory\n",
      "2021-12-10 18:50:53.289491: W tensorflow/stream_executor/platform/default/dso_loader.cc:64] Could not load dynamic library 'libcufft.so.10'; dlerror: libcufft.so.10: cannot open shared object file: No such file or directory\n",
      "2021-12-10 18:50:53.289814: W tensorflow/stream_executor/platform/default/dso_loader.cc:64] Could not load dynamic library 'libcurand.so.10'; dlerror: libcurand.so.10: cannot open shared object file: No such file or directory\n",
      "2021-12-10 18:50:53.289904: W tensorflow/stream_executor/platform/default/dso_loader.cc:64] Could not load dynamic library 'libcusolver.so.11'; dlerror: libcusolver.so.11: cannot open shared object file: No such file or directory\n",
      "2021-12-10 18:50:53.290192: W tensorflow/stream_executor/platform/default/dso_loader.cc:64] Could not load dynamic library 'libcusparse.so.11'; dlerror: libcusparse.so.11: cannot open shared object file: No such file or directory\n",
      "2021-12-10 18:50:53.290278: W tensorflow/stream_executor/platform/default/dso_loader.cc:64] Could not load dynamic library 'libcudnn.so.8'; dlerror: libcudnn.so.8: cannot open shared object file: No such file or directory\n",
      "2021-12-10 18:50:53.290294: W tensorflow/core/common_runtime/gpu/gpu_device.cc:1850] Cannot dlopen some GPU libraries. Please make sure the missing libraries mentioned above are installed properly if you would like to use GPU. Follow the guide at https://www.tensorflow.org/install/gpu for how to download and setup the required libraries for your platform.\n",
      "Skipping registering GPU devices...\n",
      "2021-12-10 18:50:53.290629: I tensorflow/core/platform/cpu_feature_guard.cc:151] This TensorFlow binary is optimized with oneAPI Deep Neural Network Library (oneDNN) to use the following CPU instructions in performance-critical operations:  AVX2 FMA\n",
      "To enable them in other operations, rebuild TensorFlow with the appropriate compiler flags.\n"
     ]
    }
   ],
   "source": [
    "def one_part(units, x):\n",
    "    x = Dense(units)(x)\n",
    "    x = LeakyReLU()(x)\n",
    "    return Dropout(0.25)(x)\n",
    "#\n",
    "\n",
    "latent_size = 32 # Размер латентного пространста\n",
    "inp = Input(shape = (784))\n",
    "x = one_part(512, inp)\n",
    "x = one_part(256, x)\n",
    "x = one_part(128, x)\n",
    "x = one_part(64, x)\n",
    "x = Dense(latent_size)(x)\n",
    "encoded = LeakyReLU()(x)\n",
    "x = one_part(64, encoded)\n",
    "x = one_part(128, x)\n",
    "x = one_part(256, x)\n",
    "x = one_part(512, x)\n",
    "decoded = Dense(784, activation = 'sigmoid')(x)\n",
    "model = Model(inputs = inp, outputs = decoded)\n",
    "model.compile('adam', loss = 'binary_crossentropy') # nadam\n",
    "\n",
    "print(model.summary())"
   ]
  },
  {
   "cell_type": "code",
   "execution_count": 5,
   "id": "c1e78c32-6389-43c1-8e88-90ccd168da0f",
   "metadata": {},
   "outputs": [],
   "source": [
    "def test_compile():\n",
    "    from keras.models import load_model\n",
    "\n",
    "    model = load_model(fn_model)\n",
    "    # Оценка модели НС на тестовых данных\n",
    "    score = model.evaluate(x_test, y_test)\n",
    "    # Вывод потерь и точности\n",
    "    print('Потери при тестировании:', round(score[0], 4))\n",
    "    print('Точность при тестировании: {}{}'.format(score[1] * 100, '%'))\n",
    "    # Прогноз\n",
    "    y_pred = model.predict(x_test)\n",
    "    # print(y_pred[0])\n",
    "    # print(y_test[0])\n",
    "    # [6.8e-6 1.5e-10 7.6e-6 1.5e-3 7.0e-9 6.2e-5 2.2e-11 9.9e-1 3.0e-7 5.9e-6]\n",
    "    # [0.     0.      0.     0.     0.     0.     0.      1.     0.     0.]\n",
    "    # Заносим в массив predicted_classes метки классов, предсказанных моделью НС\n",
    "    predicted_classes = np.array([np.argmax(m) for m in y_pred])\n",
    "    true_classes = np.array([np.argmax(m) for m in y_test])\n",
    "    n_test = len(y_test)\n",
    "    # Число верно классифицированных изображений\n",
    "    true_classified = np.sum(predicted_classes == true_classes)\n",
    "    # Число ошибочно классифицированных изображений\n",
    "    false_classified = n_test - true_classified\n",
    "    acc = 100.0 * true_classified / n_test\n",
    "    print('Точность: {}{}'.format(acc, '%'))\n",
    "    print('Неверно классифицированно:', false_classified)\n",
    "    m, m_max = 0, 15\n",
    "    lst_false = []\n",
    "    print('  Индекс  | Прогноз | Правильный класс')\n",
    "    for i in range(n_test):\n",
    "        cls_pred = predicted_classes[i]  # Предсказанное моделью имя класса\n",
    "        cls_true = true_classes[i]  # Истинное имя класса\n",
    "        if cls_pred != cls_true:\n",
    "            m += 1\n",
    "            lst_false.append([i, cls_pred, cls_true])\n",
    "            if (m < min(m_max, false_classified)): \n",
    "                print('  {:5d}   |    {}    |    {}'.format(i, ch(cls_pred), ch(cls_true)))\n",
    "    print('...')\n",
    "    \n",
    "    corr_classes = [0 for i in range(num_classes)]\n",
    "    wrng_classes = [0 for i in range(num_classes)]\n",
    "    for i in range(n_test):\n",
    "        tru = true_classes[i]\n",
    "        got = predicted_classes[i]\n",
    "        if tru == got:\n",
    "            corr_classes[tru] += 1\n",
    "        else:\n",
    "            wrng_classes[tru] += 1\n",
    "    \n",
    "    print('Точность по классам:')\n",
    "    print('Класс | Точность ')\n",
    "    for i in range(0, num_classes):\n",
    "        print('{:5} | {:10.5f}'.format(ch(i), corr_classes[i]/(corr_classes[i] + wrng_classes[i]+1)*100))\n",
    "    \n",
    "    plt.figure('Ошибки классификации')\n",
    "    for k in range(15):\n",
    "        plt.subplot(3, 5, k + 1)\n",
    "        num = np.random.randint(len(lst_false))\n",
    "        lst = lst_false[num]\n",
    "        plt.imshow(x_test[lst[0]].reshape(img_rows, img_cols), cmap='gray')\n",
    "        plt.title('{}/{}'.format(ch(lst[1]), ch(lst[2])))\n",
    "        plt.axis('off')\n",
    "    plt.show()"
   ]
  },
  {
   "cell_type": "code",
   "execution_count": null,
   "id": "f9e66b87-436b-4d34-8742-bc97e0b1c215",
   "metadata": {},
   "outputs": [
    {
     "name": "stdout",
     "output_type": "stream",
     "text": [
      "epoch: 1\n",
      "1875/1875 [==============================] - 29s 15ms/step - loss: 0.1966\n",
      "epoch: 2\n",
      "1875/1875 [==============================] - 36s 19ms/step - loss: 0.1690\n",
      "epoch: 3\n",
      "1875/1875 [==============================] - 32s 17ms/step - loss: 0.1630\n",
      "epoch: 4\n",
      "1875/1875 [==============================] - 27s 14ms/step - loss: 0.1597\n",
      "epoch: 5\n"
     ]
    }
   ],
   "source": [
    "plt_epoch = not False\n",
    "epochs = 5 # Число эпох\n",
    "for epoch in range(epochs):\n",
    "    print('epoch:', epoch + 1)\n",
    "    model.fit(x = x_trn, y = x_trn)"
   ]
  },
  {
   "cell_type": "code",
   "execution_count": null,
   "id": "c0fc6df1-8439-43ed-80b3-6bf2b9148d18",
   "metadata": {},
   "outputs": [],
   "source": [
    "display.clear_output()\n",
    "arr_idx = np.random.randint(0, len_tst, 16) # class 'numpy.ndarray'\n",
    "imgs_for_test = x_tst[arr_idx].reshape(16, 784) # class 'numpy.ndarray'\n",
    "some_plts(imgs_for_test)\n",
    "imgs_pedicted = model.predict(imgs_for_test)\n",
    "some_plts(imgs_pedicted) # imgs_pedicted.shape = (16, 784)"
   ]
  },
  {
   "cell_type": "code",
   "execution_count": null,
   "id": "c4ad2882-8ff7-4302-9e66-4e884ba20869",
   "metadata": {},
   "outputs": [],
   "source": []
  },
  {
   "cell_type": "code",
   "execution_count": null,
   "id": "097f1c16-480a-483d-970c-5b764314e72a",
   "metadata": {},
   "outputs": [],
   "source": []
  }
 ],
 "metadata": {
  "kernelspec": {
   "display_name": "Python 3 (ipykernel)",
   "language": "python",
   "name": "python3"
  },
  "language_info": {
   "codemirror_mode": {
    "name": "ipython",
    "version": 3
   },
   "file_extension": ".py",
   "mimetype": "text/x-python",
   "name": "python",
   "nbconvert_exporter": "python",
   "pygments_lexer": "ipython3",
   "version": "3.8.10"
  }
 },
 "nbformat": 4,
 "nbformat_minor": 5
}
